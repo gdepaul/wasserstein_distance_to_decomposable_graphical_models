{
 "cells": [
  {
   "cell_type": "markdown",
   "id": "1a170de5",
   "metadata": {},
   "source": [
    "## Polar Degree computations for Hirzebruck surfaces"
   ]
  },
  {
   "cell_type": "code",
   "execution_count": 1,
   "id": "6798eeaa",
   "metadata": {},
   "outputs": [
    {
     "name": "stdout",
     "output_type": "stream",
     "text": [
      "\n",
      "o1 = Resultants\n",
      "\n",
      "o1 : Package\n"
     ]
    }
   ],
   "source": [
    "loadPackage \"Resultants\""
   ]
  },
  {
   "cell_type": "markdown",
   "id": "9934ee3d",
   "metadata": {},
   "source": [
    "Let $b>a>0$ be positive integers used to define a polytope $P=conv\\{(0,0), (0,1), (a,0), (b,1)\\}$. Call $P$ it $a-b$ polytope. This polytope can be used to define a toric model $\\mathcal{M}\\subseteq \\Delta_{a+b-1}$ given by the $A-$matrix,\n",
    "\n",
    "\n",
    "\n",
    "or monomial parametrization\n",
    "$$\n",
    "(s, t_1, t_2) \\mapsto (s, \\ldots, st_1^it_2^j, \\ldots) \\text{ where } \n",
    "A^k=\\begin{bmatrix}\n",
    "    1\\\\\n",
    "    i\\\\\n",
    "    j\n",
    "\\end{bmatrix}  \\text{ is the kth column of } A.\n",
    "$$\n",
    "\n",
    "\n",
    "For a start, we can fix $a=1$ and vary $b$. The figures below show some instances of this.\n",
    "\n",
    "Now, we wish to compute the model's algebraic and polar degrees for different values of $b$ when $a$ is kept constant. The results of some of this computation are summarized in the table below.\n",
    "\n",
    "\n",
    "  | $a$ | $b$ |                    Monomial Parametrization      | Pol Degree ($\\delta_0,\\delta_1,\\delta_2$)   |\n",
    "  | :---|:---:|                                                      :------------------  |             :--- |\n",
    "  |$1$  | $2$ |$(s,st_1, st_1t_2, st_1^2t_2)$                                             |    $(2,2,2)$     |\n",
    "  |$1$  | $3$ |$(s,st_1, st_1t_2, st_1^2t_2,st_1^3t_2)$                                   |    $(3,4,3)$     |\n",
    "  |$1$  | $4$ |$(s,st_1, st_1t_2, st_1^2t_2,st_1^3t_2,st_1^4t_2)$                         |    $(4,6,4)$     |\n",
    "  |$1$  | $5$ |$(s,st_1, st_1t_2, st_1^2t_2,st_1^3t_2,st_1^4t_2,st_1^5t_2)$               |$(5,{\\color{red}8},5)$|\n",
    "  |$1$  | $6$ |$(s,st_1, st_1t_2, st_1^2t_2,st_1^3t_2,st_1^4t_2,st_1^5t_2,st_1^6t_2)$     |$(6,{\\color{red}1\\color{red}0 },6)$|\n",
    "                                      \n",
    "\n"
   ]
  },
  {
   "cell_type": "markdown",
   "id": "7de5bf90",
   "metadata": {},
   "source": [
    "- [x] For $a=1$ and   $b=2$ we have the parametrization $(s,t_1, t_2)\\mapsto(s,st_1, st_1t_2, st_1^2t_2)$           "
   ]
  },
  {
   "cell_type": "code",
   "execution_count": 70,
   "id": "858dc373",
   "metadata": {},
   "outputs": [
    {
     "name": "stdout",
     "output_type": "stream",
     "text": [
      "\n",
      "o70 = X2\n",
      "\n",
      "o70 : ProjectiveVariety\n"
     ]
    }
   ],
   "source": [
    "--Define the ring map of the parametrization\n",
    "I2 = kernel map(QQ[s, t1, t2], \n",
    "                QQ[x1,x2,x3,x4], \n",
    "               {s, s*t1, s*t1*t2, s*t1^2*t2})\n",
    "X2 = variety I2"
   ]
  },
  {
   "cell_type": "code",
   "execution_count": 8,
   "id": "9da66820",
   "metadata": {},
   "outputs": [
    {
     "name": "stdout",
     "output_type": "stream",
     "text": [
      "\n",
      "o8 = (2, 2, 1)\n",
      "\n",
      "o8 : Sequence\n"
     ]
    }
   ],
   "source": [
    "degree X2, dim X2, codim X2"
   ]
  },
  {
   "cell_type": "markdown",
   "id": "1e56d293",
   "metadata": {},
   "source": [
    "Considering $V\\subseteq\\mathbb{P}^3$ where $codim(X2)-2\\leq \\dim(V)\\leq n-2$. That is, $-1\\leq \\dim(V)\\leq 1$.\n",
    "\n",
    "We know $\\dim(V)=codim(X2)-2+i$, so that if \n",
    "*$\\dim(V)=-1$* then $i=0$ and \n",
    "$$\\delta_0(X2)=\\deg(X2)=2$$"
   ]
  },
  {
   "cell_type": "markdown",
   "id": "42437cd3",
   "metadata": {},
   "source": [
    "If $\\dim(V)=0$ then $i=1$ and we have a point. \n",
    "Take $V$ to be spanned by a generic point $v=[1:1:2:3]$\n",
    "\n",
    "$T_pX2$ for $p\\in X2$ is spanned by the Jacobian\n",
    "$$\n",
    "\\begin{pmatrix}\n",
    "1 & t_1 & t_1t_2 & t_1^2t_2 \\\\\n",
    "0 & s & st_2 & 2st_1t_2 \\\\\n",
    "0 & 0 & st_1 & st_1^2\n",
    "\\end{pmatrix}\n",
    "$$\n",
    "\n",
    "For nontransversal intersection of $V+p$ on $X$ we want $\\dim(V)-codim(X2)<\\dim(T_pX2\\cap V)$. That is $-1=0-1<\\dim(T_pX2\\cap V)$. This leads to the requirement that the augumented matrix\n",
    "\\begin{pmatrix}\n",
    "1 & t_1 & t_1t_2 & t_1^2t_2 \\\\\n",
    "0 & s & st_2 & 2st_1t_2 \\\\\n",
    "0 & 0 & st_1 & st_1^2 \\\\\n",
    "1 & 1 & 2 & 3\n",
    "\\end{pmatrix}\n",
    "$$\n",
    "drops rank, i.e. has zero determinant. This is computed below."
   ]
  },
  {
   "cell_type": "code",
   "execution_count": 71,
   "id": "3e5e769f",
   "metadata": {},
   "outputs": [
    {
     "name": "stdout",
     "output_type": "stream",
     "text": [
      "\n",
      "o71 = | 1 t1 t1t2 t1^2t2 |\n",
      "      | 0 s  st2  2st1t2 |\n",
      "      | 0 0  st1  st1^2  |\n",
      "      | 1 1  2    3      |\n",
      "\n",
      "                            4                     4\n",
      "o71 : Matrix (QQ[s, t1, t2])  <--- (QQ[s, t1, t2])\n"
     ]
    }
   ],
   "source": [
    "Mat2 = matrix{{1, t1, t1*t2, t1^2*t2},\n",
    "            {0, s, s*t2, 2*s*t1*t2},\n",
    "            {0, 0, s*t1,  s*t1^2},\n",
    "            {1, 1, 2, 3}}\n",
    "--The degree of the variety whose ideal is generated by the determinant of Mat2 gives the 1th polar degree"
   ]
  },
  {
   "cell_type": "code",
   "execution_count": 72,
   "id": "6834f41d",
   "metadata": {},
   "outputs": [
    {
     "name": "stdout",
     "output_type": "stream",
     "text": [
      "\n",
      "                                  2\n",
      "o72 = {ideal t1, ideal s, ideal(t1 t2 - t1*t2 - 2t1 + 3)}\n",
      "\n",
      "o72 : List\n"
     ]
    }
   ],
   "source": [
    "decompose ideal(det Mat2)"
   ]
  },
  {
   "cell_type": "markdown",
   "id": "d9b4be1d",
   "metadata": {},
   "source": [
    "From the above, we have that $$\\deg(P(X2,V))=2 \\implies \\delta_1=2$$"
   ]
  },
  {
   "cell_type": "markdown",
   "id": "04edf9f4",
   "metadata": {},
   "source": [
    "If $\\dim(V)=1$ then $i=2$ and we have a line. \n",
    "Take $V$ to be spanned by a generic points $v_1=[1:1:2:3], v_2=[2:3:5:7]$\n",
    "\n",
    "$T_pX2$ for $p\\in X2$ is spanned by the Jacobian\n",
    "$$\n",
    "\\begin{pmatrix}\n",
    "1 & t_1 & t_1t_2 & t_1^2t_2 \\\\\n",
    "0 & s & st_2 & 2st_1t_2 \\\\\n",
    "0 & 0 & st_1 & st_1^2\n",
    "\\end{pmatrix}\n",
    "$$\n",
    "\n",
    "For nontransversal intersection of $V+p$ on $X$ we want $\\dim(V)-codim(X2)<\\dim(T_pX2\\cap V)$. That is $-1=0-1<\\dim(T_pX2\\cap V)$. This leads to the requirement that the augumented matrix\n",
    "\\begin{pmatrix}\n",
    "1 & t_1 & t_1t_2 & t_1^2t_2 \\\\\n",
    "0 & s & st_2 & 2st_1t_2 \\\\\n",
    "0 & 0 & st_1 & st_1^2 \\\\\n",
    "1 & 1 & 2 & 3 \\\\\n",
    "2 & 3 & 5 & 7\n",
    "\\end{pmatrix}\n",
    "$$\n",
    "drops rank, i.e. has vanishing $4\\times 4$ minors. This is computed below."
   ]
  },
  {
   "cell_type": "code",
   "execution_count": 73,
   "id": "e0d8fa78",
   "metadata": {},
   "outputs": [
    {
     "name": "stdout",
     "output_type": "stream",
     "text": [
      "\n",
      "o73 = | 1 t1 t1t2 t1^2t2 |\n",
      "      | 0 s  st2  2st1t2 |\n",
      "      | 0 0  st1  st1^2  |\n",
      "      | 1 1  2    3      |\n",
      "      | 2 3  5    7      |\n",
      "\n",
      "                            5                     4\n",
      "o73 : Matrix (QQ[s, t1, t2])  <--- (QQ[s, t1, t2])\n"
     ]
    }
   ],
   "source": [
    "Mat22 = matrix{{1, t1, t1*t2, t1^2*t2},\n",
    "            {0, s, s*t2, 2*s*t1*t2},\n",
    "            {0, 0, s*t1,  s*t1^2},\n",
    "            {1, 1, 2, 3},\n",
    "            {2,3,5,7}}"
   ]
  },
  {
   "cell_type": "code",
   "execution_count": 74,
   "id": "3de21341",
   "metadata": {},
   "outputs": [
    {
     "name": "stdout",
     "output_type": "stream",
     "text": [
      "\n",
      "              2  3      2  2       2  2     2      2  3       2  2       2  2  \n",
      "o74 = ideal (s t1 t2 - s t1 t2 - 2s t1  + 3s t1, 2s t1 t2 - 3s t1 t2 - 5s t1  +\n",
      "      --------------------------------------------------------------------------\n",
      "        2        2  2       2                                 3           \n",
      "      7s t1, s*t1 t2  - s*t1 t2 - 2s*t1*t2 + 2s*t2 - s, - s*t1  + 2s*t1, -\n",
      "      --------------------------------------------------------------------------\n",
      "       2  2      2  2    2\n",
      "      s t1 t2 - s t1  + s t1)\n",
      "\n",
      "o74 : Ideal of QQ[s, t1, t2]\n"
     ]
    }
   ],
   "source": [
    "IX2 = minors(4,Mat22)"
   ]
  },
  {
   "cell_type": "code",
   "execution_count": 75,
   "id": "45a766cb",
   "metadata": {},
   "outputs": [
    {
     "name": "stdout",
     "output_type": "stream",
     "text": [
      "\n",
      "                                                             2\n",
      "o75 = {ideal s, ideal (2t2 - 1, t1), ideal (t1 - 2t2 - 2, 2t2  + 4t2 + 1)}\n",
      "\n",
      "o75 : List\n"
     ]
    }
   ],
   "source": [
    "decompose IX2"
   ]
  },
  {
   "cell_type": "code",
   "execution_count": null,
   "id": "863ed27b",
   "metadata": {},
   "outputs": [],
   "source": [
    "--S= QQ[s, t1, t2,x1,x2,x3, w] \n",
    "--sub(IH,S)\n",
    "--homogenize(IH,w)"
   ]
  },
  {
   "cell_type": "markdown",
   "id": "473773ca",
   "metadata": {},
   "source": [
    "From the above, we have that $$\\deg(P(X2,V))=2 \\implies \\delta_2=2$$"
   ]
  },
  {
   "cell_type": "markdown",
   "id": "6696f37f",
   "metadata": {},
   "source": [
    "Note: The last polar degree of $X2$ is the **degree of the dual variety of $X2$**, ie $\\deg(X2^\\vee)$. So we could have computed the following instead:"
   ]
  },
  {
   "cell_type": "code",
   "execution_count": 17,
   "id": "d89355b6",
   "metadata": {},
   "outputs": [
    {
     "name": "stdout",
     "output_type": "stream",
     "text": [
      "\n",
      "o17 = 2\n"
     ]
    }
   ],
   "source": [
    "degree dualVariety I2"
   ]
  },
  {
   "cell_type": "markdown",
   "id": "fc96d899",
   "metadata": {},
   "source": [
    "### Alternatively, \n",
    "the polar degrees of $X2$ could have been read off (from right to left) from the multidegrees of the conormal variety of $X2$.\n",
    "\n",
    "This is shown below."
   ]
  },
  {
   "cell_type": "code",
   "execution_count": 76,
   "id": "1bce20ca",
   "metadata": {},
   "outputs": [
    {
     "name": "stdout",
     "output_type": "stream",
     "text": [
      "\n",
      "        3       2 2       3\n",
      "o76 = 2T T  + 2T T  + 2T T\n",
      "        0 1     0 1     0 1\n",
      "\n",
      "o76 : ZZ[T ..T ]\n",
      "          0   1\n"
     ]
    }
   ],
   "source": [
    "multidegree conormalVariety I2"
   ]
  },
  {
   "cell_type": "markdown",
   "id": "2483b633",
   "metadata": {},
   "source": [
    "**This shows $\\delta_0=\\delta_1=\\delta_2=2$**"
   ]
  },
  {
   "cell_type": "markdown",
   "id": "bf3b81f9",
   "metadata": {},
   "source": [
    "##### *Multidegrees of conormal variety will be used to find polar degrees of subsequent surfaces*"
   ]
  },
  {
   "cell_type": "markdown",
   "id": "19cbf535",
   "metadata": {},
   "source": []
  },
  {
   "cell_type": "markdown",
   "id": "a4b90453",
   "metadata": {},
   "source": [
    "- [x] For $a=1$ and   $b=3$ we have the parametrization $(s,t_1, t_2)\\mapsto(s,st_1, st_1t_2, st_1^2t_2,st_1^3t_2)$           "
   ]
  },
  {
   "cell_type": "code",
   "execution_count": 78,
   "id": "29ebcbd0",
   "metadata": {},
   "outputs": [
    {
     "name": "stdout",
     "output_type": "stream",
     "text": [
      "\n",
      "o78 = X3\n",
      "\n",
      "o78 : ProjectiveVariety\n"
     ]
    }
   ],
   "source": [
    "--Define the ring map of the parametrization\n",
    "I3 = kernel map(QQ[s, t1, t2], \n",
    "                QQ[x1,x2,x3,x4,x5], \n",
    "               {s, s*t1, s*t1*t2, s*t1^2*t2,s*t1^3*t2})\n",
    "X3 = variety I3"
   ]
  },
  {
   "cell_type": "code",
   "execution_count": 80,
   "id": "5632addc",
   "metadata": {},
   "outputs": [
    {
     "name": "stdout",
     "output_type": "stream",
     "text": [
      "\n",
      "o80 = (3, 2, 2)\n",
      "\n",
      "o80 : Sequence\n"
     ]
    }
   ],
   "source": [
    "degree X3, dim X3, codim X3"
   ]
  },
  {
   "cell_type": "markdown",
   "id": "915f3ecb",
   "metadata": {},
   "source": [
    "Considering $V\\subseteq\\mathbb{P}^4$ where $codim(X3)-2\\leq \\dim(V)\\leq n-2$. That is, $0=2-2\\leq \\dim(V)\\leq 2$.\n",
    "\n",
    "We know $\\dim(V)=codim(X2)-2+i$, thus $0\\leq i\\leq 2$. \n"
   ]
  },
  {
   "cell_type": "markdown",
   "id": "14eabf0b",
   "metadata": {},
   "source": [
    "Now, we can read off the polar degrees from then multidegrees of the conormal variety of X3."
   ]
  },
  {
   "cell_type": "code",
   "execution_count": 82,
   "id": "56678d76",
   "metadata": {},
   "outputs": [
    {
     "name": "stdout",
     "output_type": "stream",
     "text": [
      "warning: clearing value of symbol x1 to allow access to subscripted variables based on it\n",
      "       : debug with expression   debug 5513   or with command line option   --debug 5513\n",
      "\n",
      "        4       3 2     2 3\n",
      "o82 = 3T T  + 4T T  + 3T T\n",
      "        0 1     0 1     0 1\n",
      "\n",
      "o82 : ZZ[T ..T ]\n",
      "          0   1\n"
     ]
    }
   ],
   "source": [
    "multidegree conormalVariety I3"
   ]
  },
  {
   "cell_type": "markdown",
   "id": "3cdd7c71",
   "metadata": {},
   "source": [
    "From the above, we see that \n",
    "$$\n",
    "\\delta_0=3\\\\\n",
    "\\delta_1=4\\\\\n",
    "\\delta_2=3\n",
    "$$"
   ]
  },
  {
   "cell_type": "code",
   "execution_count": null,
   "id": "8df4552f",
   "metadata": {},
   "outputs": [],
   "source": []
  },
  {
   "cell_type": "markdown",
   "id": "d9e17738",
   "metadata": {},
   "source": [
    "- [x] For $a=1$ and   $b=4$ we have the parametrization $(s,t_1, t_2)\\mapsto(s,st_1, st_1t_2, st_1^2t_2,st_1^3t_2,st_1^4t_2)$           "
   ]
  },
  {
   "cell_type": "code",
   "execution_count": 85,
   "id": "54a6cb39",
   "metadata": {},
   "outputs": [
    {
     "name": "stdout",
     "output_type": "stream",
     "text": [
      "\n",
      "o85 = X4\n",
      "\n",
      "o85 : ProjectiveVariety\n"
     ]
    }
   ],
   "source": [
    "--Define the ring map of the parametrization\n",
    "I4 = kernel map(QQ[s, t1, t2], \n",
    "                QQ[x2,x3,x4,x5,x6,x7], \n",
    "               {s, s*t1, s*t1*t2, s*t1^2*t2,s*t1^3*t2,s*t1^4*t2})\n",
    "X4 = variety I4"
   ]
  },
  {
   "cell_type": "code",
   "execution_count": 86,
   "id": "bcebf1bb",
   "metadata": {},
   "outputs": [
    {
     "name": "stdout",
     "output_type": "stream",
     "text": [
      "\n",
      "o86 = (3, 2, 2, 3)\n",
      "\n",
      "o86 : Sequence\n"
     ]
    }
   ],
   "source": [
    "degree X3, dim X3, codim X3, degree dualVariety I3"
   ]
  },
  {
   "cell_type": "markdown",
   "id": "c021f1cd",
   "metadata": {},
   "source": [
    "Considering $V\\subseteq\\mathbb{P}^5$ where $codim(X4)-2\\leq \\dim(V)\\leq n-2$. That is, $0=2-2\\leq \\dim(V)\\leq 2$.\n",
    "\n",
    "We know $\\dim(V)=codim(X2)-2+i$, thus $0\\leq i\\leq 2$. "
   ]
  },
  {
   "cell_type": "code",
   "execution_count": 95,
   "id": "14b701e4",
   "metadata": {},
   "outputs": [
    {
     "name": "stdout",
     "output_type": "stream",
     "text": [
      "\r\n",
      "o95 = [KERNEL ENFORCED TIMEOUT]"
     ]
    }
   ],
   "source": [
    "\n",
    "multidegree conormalVariety kernel map(QQ[s, t1, t2], \n",
    "                QQ[x2,x3,x4,x5,x6,x7], \n",
    "               {s, s*t1, s*t1*t2, s*t1^2*t2,s*t1^3*t2,s*t1^4*t2})"
   ]
  }
 ],
 "metadata": {
  "kernelspec": {
   "display_name": "M2",
   "language": "text/x-macaulay2",
   "name": "m2"
  },
  "language_info": {
   "codemirror_mode": "macaulay2",
   "file_extension": ".m2",
   "mimetype": "text/x-macaulay2",
   "name": "Macaulay2"
  }
 },
 "nbformat": 4,
 "nbformat_minor": 5
}
