{
 "cells": [
  {
   "cell_type": "code",
   "execution_count": 1,
   "id": "f3bab191",
   "metadata": {},
   "outputs": [],
   "source": [
    "import numpy as np\n",
    "from scipy.spatial import ConvexHull\n",
    "from collections import defaultdict\n",
    "import numpy.linalg as LA\n",
    "\n",
    "def create_vector(a,b,step):\n",
    "    new_vec = []\n",
    "    curr_val = a\n",
    "    while curr_val < b:\n",
    "        new_vec.append(curr_val)\n",
    "        curr_val += step\n",
    "    return new_vec\n",
    "\n",
    "def linear_transform(start, end, time):\n",
    "    \n",
    "    return time * end + (1 - time) * start\n",
    "\n",
    "def transform_to_3d_under_basis(set_of_points, basis):\n",
    "\n",
    "    transformed = []\n",
    "    for new_point in set_of_points:\n",
    "        transformed_point = np.zeros(3)\n",
    "        for coord, basis_vec in zip(new_point, basis):        \n",
    "            transformed_point += coord * basis_vec\n",
    "        transformed.append(transformed_point)\n",
    "\n",
    "    return np.array(transformed)\n",
    "\n",
    "import plotly.graph_objs as go\n",
    "from plotly.offline import iplot\n",
    "T = create_vector(0,1,0.001)"
   ]
  },
  {
   "cell_type": "markdown",
   "id": "25310c86",
   "metadata": {},
   "source": [
    "## Get the Wasserstein Ball under Discrete Metric in $\\Delta_{n - 1}$ centered at 0"
   ]
  },
  {
   "cell_type": "code",
   "execution_count": 2,
   "id": "3d0b722c",
   "metadata": {},
   "outputs": [],
   "source": [
    "# # Hardy Weinburg\n",
    "\n",
    "# d = 1\n",
    "# n = 3\n",
    "# var('p_0, p_1, p_2')\n",
    "# mu = np.random.rand(n)\n",
    "# mu /= LA.norm(mu)\n",
    "# R.<p_0, p_1, p_2> = PolynomialRing(QQ, order = 'lex')\n",
    "# Differentials = [p_0, p_1, p_2]\n",
    "# P_translated = np.array(Differentials) - np.array(mu)\n",
    "# G = [p_1^2-4*p_0*p_2]\n",
    "\n",
    "# L_1_metric = [[0,1,2],[0,0,1]]\n",
    "# discrete_metric = [[0,1,1],[0,0,1]]\n",
    "\n",
    "# distance_metic = discrete_metric"
   ]
  },
  {
   "cell_type": "code",
   "execution_count": 3,
   "id": "2984c91c",
   "metadata": {},
   "outputs": [],
   "source": [
    "# # Twisted Cubic\n",
    "\n",
    "# d = 1\n",
    "# n = 4\n",
    "# var('p_0, p_1, p_2, p_3')\n",
    "# mu = np.random.rand(n)\n",
    "# mu /= LA.norm(mu)\n",
    "# R.<p_0, p_1, p_2, p_3> = PolynomialRing(QQ, order = 'lex')\n",
    "# Differentials = [p_0, p_1, p_2, p_3]\n",
    "# P_translated = np.array(Differentials) - np.array(mu)\n",
    "# G = [3*p_0*p_2-p_1^2, 3*p_1*p_3-p_2^2, 9*p_0*p_3-p_1*p_2]\n",
    "\n",
    "# L_1_metric = [[0,1,2,3],[0,0,1,2],[0,0,0,1]]\n",
    "# discrete_metric = [[0,1,1,1],[0,0,1,1],[0,0,0,1]]\n",
    "\n",
    "# distance_metic = discrete_metric"
   ]
  },
  {
   "cell_type": "code",
   "execution_count": 4,
   "id": "a2babf31",
   "metadata": {},
   "outputs": [],
   "source": [
    "# # Twisted Quartic\n",
    "\n",
    "# d = 1\n",
    "# n = 5\n",
    "# var('p_0, p_1, p_2, p_3, p_4')\n",
    "# mu = np.random.rand(n)\n",
    "# mu /= LA.norm(mu)\n",
    "# R.<p_0, p_1, p_2, p_3, p_4> = PolynomialRing(QQ, order = 'lex')\n",
    "# Differentials = [p_0, p_1, p_2, p_3, p_4]\n",
    "# P_translated = np.array(Differentials) - np.array(mu)\n",
    "# defining_eqns = matrix(R, [[p_0, p_1/4, p_2/6, p_3/4],[p_1/4, p_2/6, p_3/4,p_4]])\n",
    "# G = defining_eqns.minors(2)\n",
    "\n",
    "# L_1_metric = [[0,1,2,3,4],[0,0,1,2,3],[0,0,0,1,2],[0,0,0,0,1]]\n",
    "# discrete_metric = [[0,1,1,1,1],[0,0,1,1,1],[0,0,0,1,1],[0,0,0,0,1]]\n",
    "\n",
    "# distance_metic = L_1_metric"
   ]
  },
  {
   "cell_type": "code",
   "execution_count": 5,
   "id": "34ed1865",
   "metadata": {},
   "outputs": [],
   "source": [
    "# #Twisted Quintic\n",
    "\n",
    "# d = 1\n",
    "# n = 6\n",
    "# var('p_0, p_1, p_2, p_3, p_4, p5')\n",
    "# mu = np.random.rand(n)\n",
    "# mu /= LA.norm(mu)\n",
    "# R.<p_0, p_1, p_2, p_3, p_4, p_5> = PolynomialRing(QQ, order = 'lex')\n",
    "# Differentials = [p_0, p_1, p_2, p_3, p_4, p_5]\n",
    "# P_translated = np.array(Differentials) - np.array(mu)\n",
    "# defining_eqns = matrix(R, [[p_0, p_1/5, p_2/10, p_3/10, p_4/5],[p_1/5, p_2/10, p_3/10,p_4/5, p_5]])\n",
    "# G = defining_eqns.minors(2)\n",
    "\n",
    "# L_1_metric = [[0,1,2,3,4,5],[0,0,1,2,3,4],[0,0,0,1,2,3],[0,0,0,0,1,2],[0,0,0,0,0,1]]\n",
    "# discrete_metric =  [[0,1,1,1,1,1],[0,0,1,1,1,1],[0,0,0,1,1,1],[0,0,0,0,1,1],[0,0,0,0,0,1]]\n",
    "\n",
    "# distance_metic = discrete_metric"
   ]
  },
  {
   "cell_type": "code",
   "execution_count": 6,
   "id": "970c51be",
   "metadata": {},
   "outputs": [],
   "source": [
    "#Twisted Sextic\n",
    "\n",
    "d = 1\n",
    "n = 7\n",
    "var('p_0, p_1, p_2, p_3, p_4, p5, p6')\n",
    "mu = np.random.rand(n)\n",
    "mu /= LA.norm(mu)\n",
    "R.<p_0, p_1, p_2, p_3, p_4, p_5, p_6> = PolynomialRing(QQ, order = 'lex')\n",
    "Differentials = [p_0, p_1, p_2, p_3, p_4, p_5, p_6]\n",
    "P_translated = np.array(Differentials) - np.array(mu)\n",
    "defining_eqns = matrix(R, [[p_0, p_1/6, p_2/15, p_3/20, p_4/15, p_5/6],[p_1/6, p_2/15, p_3/20,p_4/15, p_5/6, p_6]])\n",
    "G = defining_eqns.minors(2)\n",
    "\n",
    "L_1_metric = [[0,1,2,3,4,5,6],[0,0,1,2,3,4,5],[0,0,0,1,2,3,4],[0,0,0,0,1,2,3],[0,0,0,0,0,1,2],[0,0,0,0,0,0,1]]\n",
    "discrete_metric =  [[0,1,1,1,1,1,1],[0,0,1,1,1,1,1],[0,0,0,1,1,1,1],[0,0,0,0,1,1,1],[0,0,0,0,0,1,1],[0,0,0,0,0,0,1]]\n",
    "\n",
    "distance_metic = L_1_metric"
   ]
  },
  {
   "cell_type": "code",
   "execution_count": 7,
   "id": "e2121a29",
   "metadata": {},
   "outputs": [],
   "source": [
    "# #Twisted Septic\n",
    "\n",
    "# d = 1\n",
    "# n = 8\n",
    "# mu = np.random.rand(n)\n",
    "# mu /= LA.norm(mu)\n",
    "# R.<p_0, p_1, p_2, p_3, p_4, p_5, p_6, p_7> = PolynomialRing(QQ, order = 'lex')\n",
    "# Differentials = [p_0, p_1, p_2, p_3, p_4, p_5, p_6, p_7]\n",
    "# P_translated = np.array(Differentials) - np.array(mu)\n",
    "# defining_eqns = matrix(R, [[p_0, p_1/7, p_2/21, p_3/35, p_4/35, p_5/21, p_6/7],[p_1/7, p_2/21, p_3/35,p_4/35, p_5/21, p_6/7, p_7]])\n",
    "# G = defining_eqns.minors(2)"
   ]
  },
  {
   "cell_type": "code",
   "execution_count": 8,
   "id": "c6b4d503",
   "metadata": {},
   "outputs": [],
   "source": [
    "A = []\n",
    "\n",
    "for i in range(n):\n",
    "    for j in range(n):\n",
    "        if i < j:\n",
    "            v = np.zeros(n + 1)\n",
    "            v[0] = 1\n",
    "            v[i + 1] = 1 / distance_metic[i][j]\n",
    "            v[j + 1] = -1 / distance_metic[i][j]\n",
    "            A.append(v)\n",
    "            v = np.zeros(n + 1)\n",
    "            v[0] = 1\n",
    "            v[i + 1] = -1 / distance_metic[i][j]\n",
    "            v[j + 1] = 1 / distance_metic[i][j]\n",
    "            A.append(v)"
   ]
  },
  {
   "cell_type": "code",
   "execution_count": 9,
   "id": "da5cb089",
   "metadata": {},
   "outputs": [
    {
     "data": {
      "text/plain": [
       "[array([ 1.,  1., -1.,  0.,  0.,  0.,  0.,  0.]),\n",
       " array([ 1., -1.,  1.,  0.,  0.,  0.,  0.,  0.]),\n",
       " array([ 1. ,  0.5,  0. , -0.5,  0. ,  0. ,  0. ,  0. ]),\n",
       " array([ 1. , -0.5,  0. ,  0.5,  0. ,  0. ,  0. ,  0. ]),\n",
       " array([ 1.        ,  0.33333333,  0.        ,  0.        , -0.33333333,\n",
       "         0.        ,  0.        ,  0.        ]),\n",
       " array([ 1.        , -0.33333333,  0.        ,  0.        ,  0.33333333,\n",
       "         0.        ,  0.        ,  0.        ]),\n",
       " array([ 1.  ,  0.25,  0.  ,  0.  ,  0.  , -0.25,  0.  ,  0.  ]),\n",
       " array([ 1.  , -0.25,  0.  ,  0.  ,  0.  ,  0.25,  0.  ,  0.  ]),\n",
       " array([ 1. ,  0.2,  0. ,  0. ,  0. ,  0. , -0.2,  0. ]),\n",
       " array([ 1. , -0.2,  0. ,  0. ,  0. ,  0. ,  0.2,  0. ]),\n",
       " array([ 1.        ,  0.16666667,  0.        ,  0.        ,  0.        ,\n",
       "         0.        ,  0.        , -0.16666667]),\n",
       " array([ 1.        , -0.16666667,  0.        ,  0.        ,  0.        ,\n",
       "         0.        ,  0.        ,  0.16666667]),\n",
       " array([ 1.,  0.,  1., -1.,  0.,  0.,  0.,  0.]),\n",
       " array([ 1.,  0., -1.,  1.,  0.,  0.,  0.,  0.]),\n",
       " array([ 1. ,  0. ,  0.5,  0. , -0.5,  0. ,  0. ,  0. ]),\n",
       " array([ 1. ,  0. , -0.5,  0. ,  0.5,  0. ,  0. ,  0. ]),\n",
       " array([ 1.        ,  0.        ,  0.33333333,  0.        ,  0.        ,\n",
       "        -0.33333333,  0.        ,  0.        ]),\n",
       " array([ 1.        ,  0.        , -0.33333333,  0.        ,  0.        ,\n",
       "         0.33333333,  0.        ,  0.        ]),\n",
       " array([ 1.  ,  0.  ,  0.25,  0.  ,  0.  ,  0.  , -0.25,  0.  ]),\n",
       " array([ 1.  ,  0.  , -0.25,  0.  ,  0.  ,  0.  ,  0.25,  0.  ]),\n",
       " array([ 1. ,  0. ,  0.2,  0. ,  0. ,  0. ,  0. , -0.2]),\n",
       " array([ 1. ,  0. , -0.2,  0. ,  0. ,  0. ,  0. ,  0.2]),\n",
       " array([ 1.,  0.,  0.,  1., -1.,  0.,  0.,  0.]),\n",
       " array([ 1.,  0.,  0., -1.,  1.,  0.,  0.,  0.]),\n",
       " array([ 1. ,  0. ,  0. ,  0.5,  0. , -0.5,  0. ,  0. ]),\n",
       " array([ 1. ,  0. ,  0. , -0.5,  0. ,  0.5,  0. ,  0. ]),\n",
       " array([ 1.        ,  0.        ,  0.        ,  0.33333333,  0.        ,\n",
       "         0.        , -0.33333333,  0.        ]),\n",
       " array([ 1.        ,  0.        ,  0.        , -0.33333333,  0.        ,\n",
       "         0.        ,  0.33333333,  0.        ]),\n",
       " array([ 1.  ,  0.  ,  0.  ,  0.25,  0.  ,  0.  ,  0.  , -0.25]),\n",
       " array([ 1.  ,  0.  ,  0.  , -0.25,  0.  ,  0.  ,  0.  ,  0.25]),\n",
       " array([ 1.,  0.,  0.,  0.,  1., -1.,  0.,  0.]),\n",
       " array([ 1.,  0.,  0.,  0., -1.,  1.,  0.,  0.]),\n",
       " array([ 1. ,  0. ,  0. ,  0. ,  0.5,  0. , -0.5,  0. ]),\n",
       " array([ 1. ,  0. ,  0. ,  0. , -0.5,  0. ,  0.5,  0. ]),\n",
       " array([ 1.        ,  0.        ,  0.        ,  0.        ,  0.33333333,\n",
       "         0.        ,  0.        , -0.33333333]),\n",
       " array([ 1.        ,  0.        ,  0.        ,  0.        , -0.33333333,\n",
       "         0.        ,  0.        ,  0.33333333]),\n",
       " array([ 1.,  0.,  0.,  0.,  0.,  1., -1.,  0.]),\n",
       " array([ 1.,  0.,  0.,  0.,  0., -1.,  1.,  0.]),\n",
       " array([ 1. ,  0. ,  0. ,  0. ,  0. ,  0.5,  0. , -0.5]),\n",
       " array([ 1. ,  0. ,  0. ,  0. ,  0. , -0.5,  0. ,  0.5]),\n",
       " array([ 1.,  0.,  0.,  0.,  0.,  0.,  1., -1.]),\n",
       " array([ 1.,  0.,  0.,  0.,  0.,  0., -1.,  1.])]"
      ]
     },
     "execution_count": 9,
     "metadata": {},
     "output_type": "execute_result"
    }
   ],
   "source": [
    "A"
   ]
  },
  {
   "cell_type": "code",
   "execution_count": 10,
   "id": "1dc3aa46",
   "metadata": {},
   "outputs": [
    {
     "data": {
      "text/plain": [
       "7"
      ]
     },
     "execution_count": 10,
     "metadata": {},
     "output_type": "execute_result"
    }
   ],
   "source": [
    "n"
   ]
  },
  {
   "cell_type": "code",
   "execution_count": 11,
   "id": "a1030a12",
   "metadata": {},
   "outputs": [],
   "source": [
    "c = np.ones((n + 1))\n",
    "c[0] = 0"
   ]
  },
  {
   "cell_type": "code",
   "execution_count": 12,
   "id": "85799b1b",
   "metadata": {},
   "outputs": [],
   "source": [
    "P = Polyhedron(ieqs=A, eqns=[c])"
   ]
  },
  {
   "cell_type": "code",
   "execution_count": 13,
   "id": "780a993c",
   "metadata": {},
   "outputs": [],
   "source": [
    "V = []\n",
    "for v in P.Vrepresentation():\n",
    "    V.append(v.vector())"
   ]
  },
  {
   "cell_type": "code",
   "execution_count": 14,
   "id": "d556929c",
   "metadata": {},
   "outputs": [
    {
     "data": {
      "text/plain": [
       "[(-1.285714286, -2.285714286, -1.285714286, -0.2857142857, 0.7142857143, 1.714285714, 2.714285714),\n",
       " (-1.0, -2.0, -1.0, 0.0, 1.0, 2.0, 1.0),\n",
       " (-0.7142857143, -1.714285714, -0.7142857143, 0.2857142857, 1.285714286, 0.2857142857, 1.285714286),\n",
       " (-0.4285714286, -1.428571429, -0.4285714286, 0.5714285714, 1.571428571, 0.5714285714, -0.4285714286),\n",
       " (-0.4285714286, -1.428571429, -0.4285714286, 0.5714285714, -0.4285714286, 0.5714285714, 1.571428571),\n",
       " (-0.1428571429, -1.142857143, -0.1428571429, 0.8571428571, -0.1428571429, 0.8571428571, -0.1428571429),\n",
       " (0.1428571429, -0.8571428571, 0.1428571429, 1.142857143, 0.1428571429, -0.8571428571, 0.1428571429),\n",
       " (0.4285714286, -0.5714285714, 0.4285714286, 1.428571429, 0.4285714286, -0.5714285714, -1.571428571),\n",
       " (-0.1428571429, -1.142857143, -0.1428571429, -1.142857143, -0.1428571429, 0.8571428571, 1.857142857),\n",
       " (0.1428571429, -0.8571428571, 0.1428571429, -0.8571428571, 0.1428571429, 1.142857143, 0.1428571429),\n",
       " (0.4285714286, -0.5714285714, 0.4285714286, -0.5714285714, 0.4285714286, -0.5714285714, 0.4285714286),\n",
       " (0.7142857143, -0.2857142857, 0.7142857143, -0.2857142857, 0.7142857143, -0.2857142857, -1.285714286),\n",
       " (0.7142857143, -0.2857142857, 0.7142857143, -0.2857142857, -1.285714286, -0.2857142857, 0.7142857143),\n",
       " (1.0, 0.0, 1.0, 0.0, -1.0, 0.0, -1.0),\n",
       " (1.285714286, 0.2857142857, 1.285714286, 0.2857142857, -0.7142857143, -1.714285714, -0.7142857143),\n",
       " (1.571428571, 0.5714285714, 1.571428571, 0.5714285714, -0.4285714286, -1.428571429, -2.428571429),\n",
       " (1.285714286, 0.2857142857, -0.7142857143, -1.714285714, -0.7142857143, 0.2857142857, 1.285714286),\n",
       " (1.571428571, 0.5714285714, -0.4285714286, -1.428571429, -0.4285714286, 0.5714285714, -0.4285714286),\n",
       " (1.857142857, 0.8571428571, -0.1428571429, -1.142857143, -0.1428571429, -1.142857143, -0.1428571429),\n",
       " (2.142857143, 1.142857143, 0.1428571429, -0.8571428571, 0.1428571429, -0.8571428571, -1.857142857),\n",
       " (2.714285714, 1.714285714, 0.7142857143, -0.2857142857, -1.285714286, -2.285714286, -1.285714286),\n",
       " (3.0, 2.0, 1.0, 0.0, -1.0, -2.0, -3.0),\n",
       " (2.428571429, 1.428571429, 0.4285714286, -0.5714285714, -1.571428571, -0.5714285714, -1.571428571),\n",
       " (2.142857143, 1.142857143, 0.1428571429, -0.8571428571, -1.857142857, -0.8571428571, 0.1428571429),\n",
       " (1.857142857, 0.8571428571, -0.1428571429, 0.8571428571, -0.1428571429, -1.142857143, -2.142857143),\n",
       " (1.571428571, 0.5714285714, -0.4285714286, 0.5714285714, -0.4285714286, -1.428571429, -0.4285714286),\n",
       " (1.285714286, 0.2857142857, -0.7142857143, 0.2857142857, -0.7142857143, 0.2857142857, -0.7142857143),\n",
       " (1.0, 0.0, -1.0, 0.0, -1.0, 0.0, 1.0),\n",
       " (1.0, 0.0, -1.0, 0.0, 1.0, 0.0, -1.0),\n",
       " (0.7142857143, -0.2857142857, -1.285714286, -0.2857142857, 0.7142857143, -0.2857142857, 0.7142857143),\n",
       " (0.4285714286, -0.5714285714, -1.571428571, -0.5714285714, 0.4285714286, 1.428571429, 0.4285714286),\n",
       " (0.1428571429, -0.8571428571, -1.857142857, -0.8571428571, 0.1428571429, 1.142857143, 2.142857143),\n",
       " (1.285714286, 2.285714286, 1.285714286, 0.2857142857, -0.7142857143, -1.714285714, -2.714285714),\n",
       " (1.0, 2.0, 1.0, 0.0, -1.0, -2.0, -1.0),\n",
       " (0.7142857143, 1.714285714, 0.7142857143, -0.2857142857, -1.285714286, -0.2857142857, -1.285714286),\n",
       " (0.4285714286, 1.428571429, 0.4285714286, -0.5714285714, -1.571428571, -0.5714285714, 0.4285714286),\n",
       " (0.4285714286, 1.428571429, 0.4285714286, -0.5714285714, 0.4285714286, -0.5714285714, -1.571428571),\n",
       " (0.1428571429, 1.142857143, 0.1428571429, -0.8571428571, 0.1428571429, -0.8571428571, 0.1428571429),\n",
       " (-0.1428571429, 0.8571428571, -0.1428571429, -1.142857143, -0.1428571429, 0.8571428571, -0.1428571429),\n",
       " (-0.4285714286, 0.5714285714, -0.4285714286, -1.428571429, -0.4285714286, 0.5714285714, 1.571428571),\n",
       " (0.1428571429, 1.142857143, 0.1428571429, 1.142857143, 0.1428571429, -0.8571428571, -1.857142857),\n",
       " (-0.1428571429, 0.8571428571, -0.1428571429, 0.8571428571, -0.1428571429, -1.142857143, -0.1428571429),\n",
       " (-0.4285714286, 0.5714285714, -0.4285714286, 0.5714285714, -0.4285714286, 0.5714285714, -0.4285714286),\n",
       " (-0.7142857143, 0.2857142857, -0.7142857143, 0.2857142857, -0.7142857143, 0.2857142857, 1.285714286),\n",
       " (-0.7142857143, 0.2857142857, -0.7142857143, 0.2857142857, 1.285714286, 0.2857142857, -0.7142857143),\n",
       " (-1.0, 0.0, -1.0, 0.0, 1.0, 0.0, 1.0),\n",
       " (-1.285714286, -0.2857142857, -1.285714286, -0.2857142857, 0.7142857143, 1.714285714, 0.7142857143),\n",
       " (-1.571428571, -0.5714285714, -1.571428571, -0.5714285714, 0.4285714286, 1.428571429, 2.428571429),\n",
       " (-0.1428571429, 0.8571428571, 1.857142857, 0.8571428571, -0.1428571429, -1.142857143, -2.142857143),\n",
       " (-0.4285714286, 0.5714285714, 1.571428571, 0.5714285714, -0.4285714286, -1.428571429, -0.4285714286),\n",
       " (-0.7142857143, 0.2857142857, 1.285714286, 0.2857142857, -0.7142857143, 0.2857142857, -0.7142857143),\n",
       " (-1.0, 0.0, 1.0, 0.0, -1.0, 0.0, 1.0),\n",
       " (-1.0, 0.0, 1.0, 0.0, 1.0, 0.0, -1.0),\n",
       " (-1.285714286, -0.2857142857, 0.7142857143, -0.2857142857, 0.7142857143, -0.2857142857, 0.7142857143),\n",
       " (-1.571428571, -0.5714285714, 0.4285714286, -0.5714285714, 0.4285714286, 1.428571429, 0.4285714286),\n",
       " (-1.857142857, -0.8571428571, 0.1428571429, -0.8571428571, 0.1428571429, 1.142857143, 2.142857143),\n",
       " (-1.285714286, -0.2857142857, 0.7142857143, 1.714285714, 0.7142857143, -0.2857142857, -1.285714286),\n",
       " (-1.571428571, -0.5714285714, 0.4285714286, 1.428571429, 0.4285714286, -0.5714285714, 0.4285714286),\n",
       " (-1.857142857, -0.8571428571, 0.1428571429, 1.142857143, 0.1428571429, 1.142857143, 0.1428571429),\n",
       " (-2.142857143, -1.142857143, -0.1428571429, 0.8571428571, -0.1428571429, 0.8571428571, 1.857142857),\n",
       " (-2.142857143, -1.142857143, -0.1428571429, 0.8571428571, 1.857142857, 0.8571428571, -0.1428571429),\n",
       " (-2.428571429, -1.428571429, -0.4285714286, 0.5714285714, 1.571428571, 0.5714285714, 1.571428571),\n",
       " (-2.714285714, -1.714285714, -0.7142857143, 0.2857142857, 1.285714286, 2.285714286, 1.285714286),\n",
       " (-3.0, -2.0, -1.0, 0.0, 1.0, 2.0, 3.0)]"
      ]
     },
     "execution_count": 14,
     "metadata": {},
     "output_type": "execute_result"
    }
   ],
   "source": [
    "V"
   ]
  },
  {
   "cell_type": "code",
   "execution_count": 15,
   "id": "09a672a2",
   "metadata": {},
   "outputs": [],
   "source": [
    "B = []\n",
    "\n",
    "for k in range(len(V)):\n",
    "    curr_vec = [1]\n",
    "    for v in V[k]:\n",
    "        curr_vec.append(-v)\n",
    "    B.append(curr_vec)"
   ]
  },
  {
   "cell_type": "code",
   "execution_count": 16,
   "id": "c28c1e60",
   "metadata": {},
   "outputs": [],
   "source": [
    "P_star = Polyhedron(ieqs=B, eqns=[c])"
   ]
  },
  {
   "cell_type": "code",
   "execution_count": 17,
   "id": "6e0609dc",
   "metadata": {},
   "outputs": [],
   "source": [
    "D = []\n",
    "for d in P_star.Vrepresentation():\n",
    "    D.append(d.vector())"
   ]
  },
  {
   "cell_type": "code",
   "execution_count": 18,
   "id": "2e769553",
   "metadata": {},
   "outputs": [
    {
     "data": {
      "text/plain": [
       "[(0.0, 0.0, 0.0, 0.0, 0.0, 1.0, -1.0),\n",
       " (0.0, 0.0, 0.0, 1.0, -1.0, 0.0, 0.0),\n",
       " (0.0, 0.0, 1.0, -1.0, 0.0, 0.0, 0.0),\n",
       " (0.0, 1.0, -1.0, 0.0, 0.0, 0.0, 0.0),\n",
       " (1.0, -1.0, 0.0, 0.0, 0.0, 0.0, 0.0),\n",
       " (0.0, 0.0, 0.0, 0.0, 1.0, -1.0, 0.0),\n",
       " (0.0, 0.0, 0.0, 0.0, 0.0, -1.0, 1.0),\n",
       " (0.0, 0.0, 0.0, 0.0, -1.0, 1.0, 0.0),\n",
       " (0.0, 0.0, 0.0, -1.0, 1.0, 0.0, 0.0),\n",
       " (0.0, 0.0, -1.0, 1.0, 0.0, 0.0, 0.0),\n",
       " (0.0, -1.0, 1.0, 0.0, 0.0, 0.0, 0.0),\n",
       " (-1.0, 1.0, 0.0, 0.0, 0.0, 0.0, 0.0)]"
      ]
     },
     "execution_count": 18,
     "metadata": {},
     "output_type": "execute_result"
    }
   ],
   "source": [
    "D"
   ]
  },
  {
   "cell_type": "code",
   "execution_count": 19,
   "id": "84bc7137",
   "metadata": {},
   "outputs": [
    {
     "name": "stdout",
     "output_type": "stream",
     "text": [
      "0 12\n",
      "1 60\n",
      "2 160\n",
      "3 240\n",
      "4 192\n",
      "5 64\n",
      "6 1\n"
     ]
    }
   ],
   "source": [
    "for i in range(n):\n",
    "    print(i, len(P_star.faces(i)))"
   ]
  },
  {
   "cell_type": "markdown",
   "id": "aaa21ef1",
   "metadata": {},
   "source": [
    "## Solve the problem for every vertex, edge and face and extract the algebraic degree"
   ]
  },
  {
   "cell_type": "code",
   "execution_count": 20,
   "id": "c20cb871",
   "metadata": {},
   "outputs": [
    {
     "name": "stdout",
     "output_type": "stream",
     "text": [
      "6\n",
      "6\n"
     ]
    }
   ],
   "source": [
    "algebraic_degrees = []\n",
    "\n",
    "for face in P_star.faces(n - 3):\n",
    "    curr_vectors = []\n",
    "    for v_index in face.ambient_V_indices():\n",
    "        vertex = P_star.Vrepresentation(v_index)\n",
    "        curr_vectors.append(vertex)\n",
    "        \n",
    "    curr_normal = np.mean(curr_vectors,axis=0)\n",
    "    for d in D:\n",
    "        flag = 1\n",
    "        for vec in curr_vectors:\n",
    "            if np.dot(d, vec) != 1:\n",
    "                flag = 0\n",
    "                \n",
    "        if flag == 1:\n",
    "            curr_normal = np.copy(d)\n",
    "        \n",
    "    Q_list = []\n",
    "    for vec in curr_vectors: \n",
    "        for i in range(n):\n",
    "            Q_list.append(vec[i])\n",
    "        \n",
    "    B = Matrix(len(curr_vectors),n,Q_list)\n",
    "    basis = B.right_kernel().basis()\n",
    "    \n",
    "    M_list = []\n",
    "    rows = 0\n",
    "    for v in curr_normal:\n",
    "        M_list.append(v)\n",
    "    rows += 1\n",
    "        \n",
    "    for g in G: \n",
    "        for differential in Differentials:\n",
    "            M_list.append(g.derivative(differential))\n",
    "        rows += 1\n",
    "    \n",
    "    for i in range(n):\n",
    "        M_list.append(1)\n",
    "    rows += 1\n",
    "    \n",
    "    for vec in basis: \n",
    "        np_vec = np.array(vec)\n",
    "        for i in range(n):\n",
    "            M_list.append(np_vec[i])\n",
    "        rows += 1\n",
    "    \n",
    "    intersection_mu_L_F = []\n",
    "    for vec in basis: \n",
    "        intersection_mu_L_F.append(np.array(vec) @ P_translated)\n",
    "    \n",
    "    for g in G: \n",
    "        intersection_mu_L_F.append(g)\n",
    "    \n",
    "    I = R.ideal(intersection_mu_L_F)\n",
    "    M = Matrix(R,rows,n,M_list)\n",
    "\n",
    "    J = I\n",
    "    \n",
    "    algebraic_degrees.append(J.vector_space_dimension())\n",
    "    \n",
    "print(min(algebraic_degrees))\n",
    "print(max(algebraic_degrees))\n"
   ]
  },
  {
   "cell_type": "code",
   "execution_count": 21,
   "id": "3a1c7125",
   "metadata": {},
   "outputs": [
    {
     "ename": "KeyboardInterrupt",
     "evalue": "",
     "output_type": "error",
     "traceback": [
      "\u001b[0;31m---------------------------------------------------------------------------\u001b[0m",
      "\u001b[0;31mKeyboardInterrupt\u001b[0m                         Traceback (most recent call last)",
      "\u001b[0;32m/var/folders/tr/3zw9td7531z0_hhwc8105rv00000gn/T/ipykernel_35155/2984534482.py\u001b[0m in \u001b[0;36m<cell line: 3>\u001b[0;34m()\u001b[0m\n\u001b[1;32m     56\u001b[0m     \u001b[0mM\u001b[0m \u001b[0;34m=\u001b[0m \u001b[0mMatrix\u001b[0m\u001b[0;34m(\u001b[0m\u001b[0mR\u001b[0m\u001b[0;34m,\u001b[0m\u001b[0mrows\u001b[0m\u001b[0;34m,\u001b[0m\u001b[0mn\u001b[0m\u001b[0;34m,\u001b[0m\u001b[0mM_list\u001b[0m\u001b[0;34m)\u001b[0m\u001b[0;34m\u001b[0m\u001b[0;34m\u001b[0m\u001b[0m\n\u001b[1;32m     57\u001b[0m \u001b[0;34m\u001b[0m\u001b[0m\n\u001b[0;32m---> 58\u001b[0;31m     \u001b[0mJ\u001b[0m \u001b[0;34m=\u001b[0m \u001b[0mI\u001b[0m \u001b[0;34m+\u001b[0m \u001b[0mM\u001b[0m\u001b[0;34m.\u001b[0m\u001b[0mminors\u001b[0m\u001b[0;34m(\u001b[0m\u001b[0mn\u001b[0m\u001b[0;34m)\u001b[0m\u001b[0;34m\u001b[0m\u001b[0;34m\u001b[0m\u001b[0m\n\u001b[0m\u001b[1;32m     59\u001b[0m \u001b[0;34m\u001b[0m\u001b[0m\n\u001b[1;32m     60\u001b[0m     \u001b[0malgebraic_degrees\u001b[0m\u001b[0;34m.\u001b[0m\u001b[0mappend\u001b[0m\u001b[0;34m(\u001b[0m\u001b[0mJ\u001b[0m\u001b[0;34m.\u001b[0m\u001b[0mvector_space_dimension\u001b[0m\u001b[0;34m(\u001b[0m\u001b[0;34m)\u001b[0m\u001b[0;34m)\u001b[0m\u001b[0;34m\u001b[0m\u001b[0;34m\u001b[0m\u001b[0m\n",
      "\u001b[0;32m~/opt/anaconda3/envs/alggeo/lib/python3.10/site-packages/sage/matrix/matrix2.pyx\u001b[0m in \u001b[0;36msage.matrix.matrix2.Matrix.minors (build/cythonized/sage/matrix/matrix2.c:15300)\u001b[0;34m()\u001b[0m\n\u001b[1;32m   1924\u001b[0m         \u001b[0;32mfor\u001b[0m \u001b[0mrows\u001b[0m \u001b[0;32min\u001b[0m \u001b[0mCombinations\u001b[0m\u001b[0;34m(\u001b[0m\u001b[0mall_rows\u001b[0m\u001b[0;34m,\u001b[0m\u001b[0mk\u001b[0m\u001b[0;34m)\u001b[0m\u001b[0;34m:\u001b[0m\u001b[0;34m\u001b[0m\u001b[0;34m\u001b[0m\u001b[0m\n\u001b[1;32m   1925\u001b[0m             \u001b[0;32mfor\u001b[0m \u001b[0mcols\u001b[0m \u001b[0;32min\u001b[0m \u001b[0mCombinations\u001b[0m\u001b[0;34m(\u001b[0m\u001b[0mall_cols\u001b[0m\u001b[0;34m,\u001b[0m\u001b[0mk\u001b[0m\u001b[0;34m)\u001b[0m\u001b[0;34m:\u001b[0m\u001b[0;34m\u001b[0m\u001b[0;34m\u001b[0m\u001b[0m\n\u001b[0;32m-> 1926\u001b[0;31m                 \u001b[0mm\u001b[0m\u001b[0;34m.\u001b[0m\u001b[0mappend\u001b[0m\u001b[0;34m(\u001b[0m\u001b[0mself\u001b[0m\u001b[0;34m.\u001b[0m\u001b[0mmatrix_from_rows_and_columns\u001b[0m\u001b[0;34m(\u001b[0m\u001b[0mrows\u001b[0m\u001b[0;34m,\u001b[0m\u001b[0mcols\u001b[0m\u001b[0;34m)\u001b[0m\u001b[0;34m.\u001b[0m\u001b[0mdeterminant\u001b[0m\u001b[0;34m(\u001b[0m\u001b[0;34m)\u001b[0m\u001b[0;34m)\u001b[0m\u001b[0;34m\u001b[0m\u001b[0;34m\u001b[0m\u001b[0m\n\u001b[0m\u001b[1;32m   1927\u001b[0m         \u001b[0;32mreturn\u001b[0m \u001b[0mm\u001b[0m\u001b[0;34m\u001b[0m\u001b[0;34m\u001b[0m\u001b[0m\n\u001b[1;32m   1928\u001b[0m \u001b[0;34m\u001b[0m\u001b[0m\n",
      "\u001b[0;32m~/opt/anaconda3/envs/alggeo/lib/python3.10/site-packages/sage/matrix/matrix_mpolynomial_dense.pyx\u001b[0m in \u001b[0;36msage.matrix.matrix_mpolynomial_dense.Matrix_mpolynomial_dense.determinant (build/cythonized/sage/matrix/matrix_mpolynomial_dense.cpp:7309)\u001b[0;34m()\u001b[0m\n\u001b[1;32m    549\u001b[0m             \u001b[0;32mif\u001b[0m \u001b[0misinstance\u001b[0m\u001b[0;34m(\u001b[0m\u001b[0mR\u001b[0m\u001b[0;34m,\u001b[0m \u001b[0mMPolynomialRing_libsingular\u001b[0m\u001b[0;34m)\u001b[0m \u001b[0;32mand\u001b[0m \u001b[0mR\u001b[0m\u001b[0;34m.\u001b[0m\u001b[0mbase_ring\u001b[0m\u001b[0;34m(\u001b[0m\u001b[0;34m)\u001b[0m\u001b[0;34m.\u001b[0m\u001b[0mis_field\u001b[0m\u001b[0;34m(\u001b[0m\u001b[0;34m)\u001b[0m\u001b[0;34m:\u001b[0m\u001b[0;34m\u001b[0m\u001b[0;34m\u001b[0m\u001b[0m\n\u001b[1;32m    550\u001b[0m                 \u001b[0msingular_det\u001b[0m \u001b[0;34m=\u001b[0m \u001b[0msingular_function\u001b[0m\u001b[0;34m(\u001b[0m\u001b[0;34m\"det\"\u001b[0m\u001b[0;34m)\u001b[0m\u001b[0;34m\u001b[0m\u001b[0;34m\u001b[0m\u001b[0m\n\u001b[0;32m--> 551\u001b[0;31m                 \u001b[0md\u001b[0m \u001b[0;34m=\u001b[0m \u001b[0msingular_det\u001b[0m\u001b[0;34m(\u001b[0m\u001b[0mself\u001b[0m\u001b[0;34m)\u001b[0m\u001b[0;34m\u001b[0m\u001b[0;34m\u001b[0m\u001b[0m\n\u001b[0m\u001b[1;32m    552\u001b[0m \u001b[0;34m\u001b[0m\u001b[0m\n\u001b[1;32m    553\u001b[0m             \u001b[0;32melif\u001b[0m \u001b[0mcan_convert_to_singular\u001b[0m\u001b[0;34m(\u001b[0m\u001b[0mself\u001b[0m\u001b[0;34m.\u001b[0m\u001b[0mbase_ring\u001b[0m\u001b[0;34m(\u001b[0m\u001b[0;34m)\u001b[0m\u001b[0;34m)\u001b[0m\u001b[0;34m:\u001b[0m\u001b[0;34m\u001b[0m\u001b[0;34m\u001b[0m\u001b[0m\n",
      "\u001b[0;32m~/opt/anaconda3/envs/alggeo/lib/python3.10/site-packages/sage/libs/singular/function.pyx\u001b[0m in \u001b[0;36msage.libs.singular.function.SingularFunction.__call__ (build/cythonized/sage/libs/singular/function.cpp:15385)\u001b[0;34m()\u001b[0m\n\u001b[1;32m   1332\u001b[0m         \u001b[0;32mif\u001b[0m \u001b[0;32mnot\u001b[0m \u001b[0;34m(\u001b[0m\u001b[0misinstance\u001b[0m\u001b[0;34m(\u001b[0m\u001b[0mring\u001b[0m\u001b[0;34m,\u001b[0m \u001b[0mMPolynomialRing_libsingular\u001b[0m\u001b[0;34m)\u001b[0m \u001b[0;32mor\u001b[0m \u001b[0misinstance\u001b[0m\u001b[0;34m(\u001b[0m\u001b[0mring\u001b[0m\u001b[0;34m,\u001b[0m \u001b[0mNCPolynomialRing_plural\u001b[0m\u001b[0;34m)\u001b[0m\u001b[0;34m)\u001b[0m\u001b[0;34m:\u001b[0m\u001b[0;34m\u001b[0m\u001b[0;34m\u001b[0m\u001b[0m\n\u001b[1;32m   1333\u001b[0m             \u001b[0;32mraise\u001b[0m \u001b[0mTypeError\u001b[0m\u001b[0;34m(\u001b[0m\u001b[0;34m\"Cannot call Singular function '%s' with ring parameter of type '%s'\"\u001b[0m\u001b[0;34m%\u001b[0m\u001b[0;34m(\u001b[0m\u001b[0mself\u001b[0m\u001b[0;34m.\u001b[0m\u001b[0m_name\u001b[0m\u001b[0;34m,\u001b[0m\u001b[0mtype\u001b[0m\u001b[0;34m(\u001b[0m\u001b[0mring\u001b[0m\u001b[0;34m)\u001b[0m\u001b[0;34m)\u001b[0m\u001b[0;34m)\u001b[0m\u001b[0;34m\u001b[0m\u001b[0;34m\u001b[0m\u001b[0m\n\u001b[0;32m-> 1334\u001b[0;31m         \u001b[0;32mreturn\u001b[0m \u001b[0mcall_function\u001b[0m\u001b[0;34m(\u001b[0m\u001b[0mself\u001b[0m\u001b[0;34m,\u001b[0m \u001b[0margs\u001b[0m\u001b[0;34m,\u001b[0m \u001b[0mring\u001b[0m\u001b[0;34m,\u001b[0m \u001b[0minterruptible\u001b[0m\u001b[0;34m,\u001b[0m \u001b[0mattributes\u001b[0m\u001b[0;34m)\u001b[0m\u001b[0;34m\u001b[0m\u001b[0;34m\u001b[0m\u001b[0m\n\u001b[0m\u001b[1;32m   1335\u001b[0m \u001b[0;34m\u001b[0m\u001b[0m\n\u001b[1;32m   1336\u001b[0m     \u001b[0;32mdef\u001b[0m \u001b[0m_instancedoc_\u001b[0m\u001b[0;34m(\u001b[0m\u001b[0mself\u001b[0m\u001b[0;34m)\u001b[0m\u001b[0;34m:\u001b[0m\u001b[0;34m\u001b[0m\u001b[0;34m\u001b[0m\u001b[0m\n",
      "\u001b[0;32m~/opt/anaconda3/envs/alggeo/lib/python3.10/site-packages/sage/libs/singular/function.pyx\u001b[0m in \u001b[0;36msage.libs.singular.function.call_function (build/cythonized/sage/libs/singular/function.cpp:17235)\u001b[0;34m()\u001b[0m\n\u001b[1;32m   1514\u001b[0m         \u001b[0merror_messages\u001b[0m\u001b[0;34m.\u001b[0m\u001b[0mpop\u001b[0m\u001b[0;34m(\u001b[0m\u001b[0;34m)\u001b[0m\u001b[0;34m\u001b[0m\u001b[0;34m\u001b[0m\u001b[0m\n\u001b[1;32m   1515\u001b[0m \u001b[0;34m\u001b[0m\u001b[0m\n\u001b[0;32m-> 1516\u001b[0;31m     \u001b[0;32mwith\u001b[0m \u001b[0mopt_ctx\u001b[0m\u001b[0;34m:\u001b[0m \u001b[0;31m# we are preserving the global options state here\u001b[0m\u001b[0;34m\u001b[0m\u001b[0;34m\u001b[0m\u001b[0m\n\u001b[0m\u001b[1;32m   1517\u001b[0m         \u001b[0;32mif\u001b[0m \u001b[0msignal_handler\u001b[0m\u001b[0;34m:\u001b[0m\u001b[0;34m\u001b[0m\u001b[0;34m\u001b[0m\u001b[0m\n\u001b[1;32m   1518\u001b[0m             \u001b[0msig_on\u001b[0m\u001b[0;34m(\u001b[0m\u001b[0;34m)\u001b[0m\u001b[0;34m\u001b[0m\u001b[0;34m\u001b[0m\u001b[0m\n",
      "\u001b[0;32m~/opt/anaconda3/envs/alggeo/lib/python3.10/site-packages/sage/libs/singular/function.pyx\u001b[0m in \u001b[0;36msage.libs.singular.function.call_function (build/cythonized/sage/libs/singular/function.cpp:17147)\u001b[0;34m()\u001b[0m\n\u001b[1;32m   1516\u001b[0m     \u001b[0;32mwith\u001b[0m \u001b[0mopt_ctx\u001b[0m\u001b[0;34m:\u001b[0m \u001b[0;31m# we are preserving the global options state here\u001b[0m\u001b[0;34m\u001b[0m\u001b[0;34m\u001b[0m\u001b[0m\n\u001b[1;32m   1517\u001b[0m         \u001b[0;32mif\u001b[0m \u001b[0msignal_handler\u001b[0m\u001b[0;34m:\u001b[0m\u001b[0;34m\u001b[0m\u001b[0;34m\u001b[0m\u001b[0m\n\u001b[0;32m-> 1518\u001b[0;31m             \u001b[0msig_on\u001b[0m\u001b[0;34m(\u001b[0m\u001b[0;34m)\u001b[0m\u001b[0;34m\u001b[0m\u001b[0;34m\u001b[0m\u001b[0m\n\u001b[0m\u001b[1;32m   1519\u001b[0m             \u001b[0m_res\u001b[0m \u001b[0;34m=\u001b[0m \u001b[0mself\u001b[0m\u001b[0;34m.\u001b[0m\u001b[0mcall_handler\u001b[0m\u001b[0;34m.\u001b[0m\u001b[0mhandle_call\u001b[0m\u001b[0;34m(\u001b[0m\u001b[0margument_list\u001b[0m\u001b[0;34m,\u001b[0m \u001b[0msi_ring\u001b[0m\u001b[0;34m)\u001b[0m\u001b[0;34m\u001b[0m\u001b[0;34m\u001b[0m\u001b[0m\n\u001b[1;32m   1520\u001b[0m             \u001b[0msig_off\u001b[0m\u001b[0;34m(\u001b[0m\u001b[0;34m)\u001b[0m\u001b[0;34m\u001b[0m\u001b[0;34m\u001b[0m\u001b[0m\n",
      "\u001b[0;31mKeyboardInterrupt\u001b[0m: "
     ]
    }
   ],
   "source": [
    "algebraic_degrees = []\n",
    "\n",
    "for face in P_star.faces(n - 2):\n",
    "    curr_vectors = []\n",
    "    for v_index in face.ambient_V_indices():\n",
    "        vertex = P_star.Vrepresentation(v_index)\n",
    "        curr_vectors.append(vertex)\n",
    "    \n",
    "    curr_normal = np.mean(curr_vectors,axis=0)\n",
    "    for d in D:\n",
    "        flag = 1\n",
    "        for vec in curr_vectors:\n",
    "            if np.dot(d, vec) != 1:\n",
    "                flag = 0\n",
    "                \n",
    "        if flag == 1:\n",
    "            curr_normal = np.copy(d)\n",
    "    \n",
    "    Q_list = []\n",
    "    for vec in curr_vectors: \n",
    "        for i in range(n):\n",
    "            Q_list.append(vec[i])\n",
    "        \n",
    "    B = Matrix(len(curr_vectors),n,Q_list)\n",
    "    basis = B.right_kernel().basis()\n",
    "    \n",
    "    M_list = []\n",
    "    rows = 0\n",
    "    for v in curr_normal:\n",
    "        M_list.append(v)\n",
    "    rows += 1\n",
    "        \n",
    "    for g in G: \n",
    "        for differential in Differentials:\n",
    "            M_list.append(g.derivative(differential))\n",
    "        rows += 1\n",
    "    \n",
    "    for i in range(n):\n",
    "        M_list.append(1)\n",
    "    rows += 1\n",
    "    \n",
    "    for vec in basis: \n",
    "        np_vec = np.array(vec)\n",
    "        for i in range(n):\n",
    "            M_list.append(np_vec[i])\n",
    "        rows += 1\n",
    "    \n",
    "    intersection_mu_L_F = []\n",
    "    for vec in basis: \n",
    "        intersection_mu_L_F.append(np.array(vec) @ P_translated)\n",
    "    \n",
    "    for g in G: \n",
    "        intersection_mu_L_F.append(g)\n",
    "    \n",
    "    I = R.ideal(intersection_mu_L_F)\n",
    "    M = Matrix(R,rows,n,M_list)\n",
    "    \n",
    "    J = I + M.minors(n)\n",
    "    \n",
    "    algebraic_degrees.append(J.vector_space_dimension())\n",
    "    \n",
    "print(min(algebraic_degrees))\n",
    "print(max(algebraic_degrees))"
   ]
  },
  {
   "cell_type": "code",
   "execution_count": 22,
   "id": "d1b742cd",
   "metadata": {},
   "outputs": [
    {
     "data": {
      "text/plain": [
       "[4, 5, 5, 5, 5, 5, 5, 5]"
      ]
     },
     "execution_count": 22,
     "metadata": {},
     "output_type": "execute_result"
    }
   ],
   "source": [
    "algebraic_degrees"
   ]
  },
  {
   "cell_type": "code",
   "execution_count": null,
   "id": "d87ea123",
   "metadata": {},
   "outputs": [],
   "source": []
  }
 ],
 "metadata": {
  "kernelspec": {
   "display_name": "SageMath 9.6",
   "language": "sage",
   "name": "sagemath"
  },
  "language_info": {
   "codemirror_mode": {
    "name": "ipython",
    "version": 3
   },
   "file_extension": ".py",
   "mimetype": "text/x-python",
   "name": "python",
   "nbconvert_exporter": "python",
   "pygments_lexer": "ipython3",
   "version": "3.10.9"
  }
 },
 "nbformat": 4,
 "nbformat_minor": 5
}
