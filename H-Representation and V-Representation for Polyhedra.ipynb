{
 "cells": [
  {
   "cell_type": "markdown",
   "id": "aeeff4d9",
   "metadata": {},
   "source": [
    "We want to stipulate a polyhedron \n",
    "$$|x_i - x_j| \\leq d_{i,j}$$\n",
    "\n",
    "given by \n",
    "\n",
    "$$d = (d_{12}, d_{13}, d_{23}) = (1,1,1)$$\n",
    "\n",
    "We immediately translate this in the system of absolute-valued algebraic inequalities: \n",
    "\n",
    "$$\\begin{cases}\n",
    "|x_1 - x_2| \\leq 1 \\\\\n",
    "|x_1 - x_3| \\leq 1 \\\\\n",
    "|x_2 - x_3| \\leq 1 \n",
    "\\end{cases}$$\n",
    "\n",
    "Expanding this to remove the complexity of the inequality, we get: \n",
    "\n",
    "$$\\begin{cases}\n",
    "x_1 - x_2 \\leq 1 \\\\\n",
    "x_2 - x_1 \\leq 1 \\\\\n",
    "x_1 - x_3 \\leq 1 \\\\\n",
    "x_3 - x_1 \\leq 1 \\\\\n",
    "x_2 - x_3 \\leq 1 \\\\\n",
    "x_3 - x_2 \\leq 1 \n",
    "\\end{cases}$$\n",
    "\n",
    "Lastly, in order for our polynomial to be within $\\mathbb R^n \\setminus \\mathbb R (1,1,1)$, we stipulate that \n",
    "\n",
    "$$x \\perp (1,1,1) \\implies x \\cdot (1,1,1) = 0 \\implies x_1 + x_2 + x_3 = 0$$\n",
    "\n",
    "Therefore, we have a polynomial defined as the following: \n",
    "\n",
    "$$P = \\{ x \\in \\mathbb R^3: Ax \\leq b, c^T x = 0\\}$$\n",
    "\n",
    "where \n",
    "\n",
    "$$A = \\begin{pmatrix} \n",
    "1 & -1 & 0 \\\\\n",
    "-1 & 1 & 0 \\\\\n",
    "1 & 0 & -1 \\\\\n",
    "-1 & 0 & 1 \\\\\n",
    "0 & 1 & -1 \\\\\n",
    "0 & -1 & 1 \n",
    "\\end{pmatrix}$$\n",
    "\n",
    "$$b = \\begin{pmatrix}\n",
    "1 \\\\ \n",
    "1 \\\\\n",
    "1 \\\\\n",
    "1 \\\\\n",
    "1 \\\\\n",
    "1\n",
    "\\end{pmatrix}$$\n",
    "\n",
    "and \n",
    "\n",
    "\n",
    "$$c = \\begin{pmatrix}\n",
    "1 \\\\ \n",
    "1 \\\\\n",
    "1 \n",
    "\\end{pmatrix}$$\n",
    "\n",
    "Now, a strange behavior of Sage is that it wants it's inequalities to be specfied in the following way: \n",
    "\n",
    "$$d + Ex \\geq 0$$\n",
    "\n",
    "$$f$$\n",
    "\n",
    "Therefore, we need "
   ]
  },
  {
   "cell_type": "code",
   "execution_count": null,
   "id": "bc8871d0",
   "metadata": {},
   "outputs": [],
   "source": [
    "a_1 = [1,-1,1,0]\n",
    "a_2 = [1,1,-1,0]\n",
    "a_3 = [1,-1,0,1]\n",
    "a_4 = [1,1,0,-1]\n",
    "a_5 = [1,0,-1,1]\n",
    "a_6 = [1,0,1,-1]"
   ]
  },
  {
   "cell_type": "code",
   "execution_count": 38,
   "id": "4e35000c",
   "metadata": {},
   "outputs": [],
   "source": [
    "P = Polyhedron(ieqs=[a_1,a_2,a_3,a_4,a_5,a_6], eqns=[[0,1,1,1]])"
   ]
  },
  {
   "cell_type": "code",
   "execution_count": 39,
   "id": "28e59f0d",
   "metadata": {},
   "outputs": [
    {
     "data": {
      "text/plain": [
       "(A vertex at (1/3, -2/3, 1/3),\n",
       " A vertex at (1/3, 1/3, -2/3),\n",
       " A vertex at (2/3, -1/3, -1/3),\n",
       " A vertex at (-1/3, 2/3, -1/3),\n",
       " A vertex at (-2/3, 1/3, 1/3),\n",
       " A vertex at (-1/3, -1/3, 2/3))"
      ]
     },
     "execution_count": 39,
     "metadata": {},
     "output_type": "execute_result"
    }
   ],
   "source": [
    "P.Vrepresentation()"
   ]
  },
  {
   "cell_type": "code",
   "execution_count": null,
   "id": "46711231",
   "metadata": {},
   "outputs": [],
   "source": []
  }
 ],
 "metadata": {
  "kernelspec": {
   "display_name": "SageMath 9.6",
   "language": "sage",
   "name": "sagemath"
  },
  "language_info": {
   "codemirror_mode": {
    "name": "ipython",
    "version": 3
   },
   "file_extension": ".py",
   "mimetype": "text/x-python",
   "name": "python",
   "nbconvert_exporter": "python",
   "pygments_lexer": "ipython3",
   "version": "3.10.9"
  }
 },
 "nbformat": 4,
 "nbformat_minor": 5
}
