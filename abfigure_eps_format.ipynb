{
 "cells": [
  {
   "cell_type": "code",
   "execution_count": 1,
   "id": "2bffad2b",
   "metadata": {},
   "outputs": [],
   "source": [
    "import matplotlib.pyplot as plt"
   ]
  },
  {
   "cell_type": "code",
   "execution_count": 2,
   "id": "53d9cdaa",
   "metadata": {},
   "outputs": [
    {
     "data": {
      "image/png": "[encoded data removed]",
      "text/plain": [
       "<Figure size 640x480 with 1 Axes>"
      ]
     },
     "metadata": {},
     "output_type": "display_data"
    }
   ],
   "source": [
    "# line 1 points\n",
    "x1 = [0,1,2,3,4,5,6,7]\n",
    "y1 = [1,1,1,1,1,1,1,1]\n",
    "# plotting the line 1 points \n",
    "plt.plot(x1, y1, color= \"black\")\n",
    "\n",
    "# line 2 points\n",
    "x2 = [0,1,2,3]\n",
    "y2 = [0,0,0,0]\n",
    "# plotting the line 2 points \n",
    "plt.plot(x2, y2, color= \"black\")\n",
    "\n",
    "# line 3 points\n",
    "x3 = [0,0]\n",
    "y3 = [0,1]\n",
    "# plotting the line 2 points \n",
    "plt.plot(x3, y3, color= \"black\")\n",
    "\n",
    "# line 4 points\n",
    "x4 = [3,7]\n",
    "y4 = [0,1]\n",
    "# plotting the line 2 points \n",
    "plt.plot(x4, y4, color= \"black\")\n",
    "\n",
    "## Scatter Plot points\n",
    "# x-axis values\n",
    "x = [0,1,2,3,0,1,2,3,4,5,6,7]\n",
    "# y-axis values\n",
    "y = [0,0,0,0,1,1,1,1,1,1,1,1]\n",
    "\n",
    "# plotting points as a scatter plot\n",
    "plt.scatter(x, y, label= \"stars\", color= \"black\", \n",
    "            marker= \"o\", s=30)\n",
    "\n",
    "## Top labelling\n",
    "plt.text(0,1.1,\"(0,1)\",fontsize = 10,horizontalalignment='center',\n",
    "        verticalalignment='bottom', fontweight='book')\n",
    "plt.text(1,1.1,\"(1,1)\",fontsize = 10,horizontalalignment='center',\n",
    "        verticalalignment='bottom', fontweight='book')\n",
    "plt.text(2,1.1,\"(2,1)\",fontsize = 10,horizontalalignment='center',\n",
    "        verticalalignment='bottom', fontweight='book')\n",
    "plt.text(3,1.1,\"(3,1)\",fontsize = 10,horizontalalignment='center',\n",
    "        verticalalignment='bottom', fontweight='book')\n",
    "plt.text(5,1.1,\"...\",fontsize = 10,horizontalalignment='center',\n",
    "        verticalalignment='bottom', fontweight='book')\n",
    "plt.text(7,1.1,\"(b,1)\",fontsize = 10,horizontalalignment='center',\n",
    "        verticalalignment='bottom', fontweight='book')\n",
    "\n",
    "## Bottom labelling\n",
    "plt.text(0,-0.2,\"(0,0)\",fontsize = 10,horizontalalignment='center',\n",
    "        verticalalignment='top', fontweight='book')\n",
    "plt.text(1,-0.2,\"(1,0)\",fontsize = 10,horizontalalignment='center',\n",
    "        verticalalignment='top', fontweight='book')\n",
    "plt.text(2,-0.2,\"...\",fontsize = 10,horizontalalignment='center',\n",
    "        verticalalignment='top', fontweight='book')\n",
    "plt.text(3,-0.2,\"(a,0)\",fontsize = 10,horizontalalignment='center',\n",
    "        verticalalignment='top', fontweight='book')\n",
    "\n",
    "# Set up axes for optimal output of figure\n",
    "ax = plt.gca()\n",
    "ax.set_aspect('equal')\n",
    "plt.axis('off')\n",
    "\n",
    "# Save as eps (look for file in the path of working folder)\n",
    "plt.savefig('abfigure.eps', format='eps',bbox_inches =\"tight\",transparent = True)\n",
    "plt.show()"
   ]
  }
 ],
 "metadata": {
  "kernelspec": {
   "display_name": "Python 3 (ipykernel)",
   "language": "python",
   "name": "python3"
  },
  "language_info": {
   "codemirror_mode": {
    "name": "ipython",
    "version": 3
   },
   "file_extension": ".py",
   "mimetype": "text/x-python",
   "name": "python",
   "nbconvert_exporter": "python",
   "pygments_lexer": "ipython3",
   "version": "3.11.7"
  }
 },
 "nbformat": 4,
 "nbformat_minor": 5
}
