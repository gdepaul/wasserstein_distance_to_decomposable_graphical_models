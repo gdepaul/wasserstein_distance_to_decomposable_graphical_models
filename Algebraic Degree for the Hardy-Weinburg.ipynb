{
 "cells": [
  {
   "cell_type": "code",
   "execution_count": 1,
   "id": "ab1d4f2b",
   "metadata": {},
   "outputs": [
    {
     "name": "stdout",
     "output_type": "stream",
     "text": [
      "\n",
      "o1 = Polyhedra\n",
      "\n",
      "o1 : Package\n",
      "\u001b[?2004h"
     ]
    }
   ],
   "source": [
    "loadPackage \"Polyhedra\""
   ]
  },
  {
   "cell_type": "markdown",
   "id": "1d915d03",
   "metadata": {},
   "source": [
    "## Get the Wasserstein Ball under the Discrete Metric"
   ]
  },
  {
   "cell_type": "code",
   "execution_count": 3,
   "id": "01ad4b44",
   "metadata": {},
   "outputs": [
    {
     "name": "stdout",
     "output_type": "stream",
     "text": [
      "\n",
      "o3 = 3\n",
      "\u001b[?2004h"
     ]
    }
   ],
   "source": [
    "R = QQ\n",
    "n = 3"
   ]
  },
  {
   "cell_type": "code",
   "execution_count": 4,
   "id": "21079335",
   "metadata": {},
   "outputs": [
    {
     "name": "stdout",
     "output_type": "stream",
     "text": [
      "\n",
      "o4 = 0\n",
      "\n",
      "o4 : MutableMatrix\n",
      "\u001b[?2004h"
     ]
    }
   ],
   "source": [
    "A = mutableMatrix(R,n*(n-1),n)"
   ]
  },
  {
   "cell_type": "code",
   "execution_count": 7,
   "id": "a903ebb8",
   "metadata": {},
   "outputs": [
    {
     "name": "stdout",
     "output_type": "stream",
     "text": [
      "\u001b[?2004l\r",
      "\u001b[?2004h\n",
      "\n",
      "o7 = | 1  -1 0  |\n",
      "     | -1 1  0  |\n",
      "     | 1  0  -1 |\n",
      "     | -1 0  1  |\n",
      "     | 0  1  -1 |\n",
      "     | 0  -1 1  |\n",
      "\n",
      "              6        3\n",
      "o7 : Matrix QQ  <--- QQ\n",
      "\u001b[?2004h"
     ]
    }
   ],
   "source": [
    "k = 0\n",
    "for i from 0 to (n - 1) do (\n",
    "    for j from 0 to (n - 1) do (\n",
    "        if i < j then (\n",
    "            A_(k,i) = 1;\n",
    "            A_(k,j) = -1;\n",
    "            k = k + 1;\n",
    "            A_(k,i) = -1;\n",
    "            A_(k,j) = 1;\n",
    "            k = k + 1;\n",
    "        )\n",
    "    )\n",
    ")\n",
    "\n",
    "A = matrix A"
   ]
  },
  {
   "cell_type": "code",
   "execution_count": 8,
   "id": "a6d14089",
   "metadata": {},
   "outputs": [
    {
     "name": "stdout",
     "output_type": "stream",
     "text": [
      "\n",
      "o8 = | 1  -1 0  |\n",
      "     | -1 1  0  |\n",
      "     | 1  0  -1 |\n",
      "     | -1 0  1  |\n",
      "     | 0  1  -1 |\n",
      "     | 0  -1 1  |\n",
      "\n",
      "              6        3\n",
      "o8 : Matrix QQ  <--- QQ\n",
      "\u001b[?2004h"
     ]
    }
   ],
   "source": [
    "A"
   ]
  },
  {
   "cell_type": "code",
   "execution_count": 11,
   "id": "06d9bb32",
   "metadata": {},
   "outputs": [
    {
     "name": "stdout",
     "output_type": "stream",
     "text": [
      "\u001b[?2004l\r",
      "\u001b[?2004h\n",
      "\n",
      "o11 = | 1 |\n",
      "      | 1 |\n",
      "      | 1 |\n",
      "      | 1 |\n",
      "      | 1 |\n",
      "      | 1 |\n",
      "\n",
      "               6        1\n",
      "o11 : Matrix QQ  <--- QQ\n",
      "\u001b[?2004h"
     ]
    }
   ],
   "source": [
    "v = mutableMatrix(R,n*(n-1),1)\n",
    "\n",
    "for i from 0 to (n*(n-1) - 1) do (\n",
    "    v_(i,0) = 1\n",
    ")\n",
    "\n",
    "v = matrix v"
   ]
  },
  {
   "cell_type": "code",
   "execution_count": 14,
   "id": "e326b954",
   "metadata": {},
   "outputs": [
    {
     "name": "stdout",
     "output_type": "stream",
     "text": [
      "\u001b[?2004l\r",
      "\u001b[?2004h\n",
      "\n",
      "o14 = | 1 1 1 |\n",
      "\n",
      "               1        3\n",
      "o14 : Matrix QQ  <--- QQ\n",
      "\u001b[?2004h"
     ]
    }
   ],
   "source": [
    "c = mutableMatrix(R,1,n)\n",
    "\n",
    "for i from 0 to (n - 1) do (\n",
    "    c_(0,i) = 1\n",
    ")\n",
    "\n",
    "c = matrix c"
   ]
  },
  {
   "cell_type": "code",
   "execution_count": 15,
   "id": "ef4573bb",
   "metadata": {},
   "outputs": [
    {
     "name": "stdout",
     "output_type": "stream",
     "text": [
      "\n",
      "o15 = 0\n",
      "\n",
      "               1        1\n",
      "o15 : Matrix ZZ  <--- ZZ\n",
      "\u001b[?2004h"
     ]
    }
   ],
   "source": [
    "w = matrix {{0}}"
   ]
  },
  {
   "cell_type": "code",
   "execution_count": 16,
   "id": "504e6e23",
   "metadata": {},
   "outputs": [
    {
     "name": "stdout",
     "output_type": "stream",
     "text": [
      "\n",
      "o16 = myPolyhedron\n",
      "\n",
      "o16 : Polyhedron\n",
      "\u001b[?2004h"
     ]
    }
   ],
   "source": [
    "myPolyhedron = polyhedronFromHData(A, v, c, w)"
   ]
  },
  {
   "cell_type": "code",
   "execution_count": 17,
   "id": "65689988",
   "metadata": {},
   "outputs": [
    {
     "name": "stdout",
     "output_type": "stream",
     "text": [
      "\n",
      "o17 = | 1/3  2/3  -1/3 1/3  -2/3 -1/3 |\n",
      "      | 1/3  -1/3 2/3  -2/3 1/3  -1/3 |\n",
      "      | -2/3 -1/3 -1/3 1/3  1/3  2/3  |\n",
      "\n",
      "               3        6\n",
      "o17 : Matrix QQ  <--- QQ\n",
      "\u001b[?2004h"
     ]
    }
   ],
   "source": [
    "V = vertices myPolyhedron"
   ]
  },
  {
   "cell_type": "code",
   "execution_count": 21,
   "id": "3a270404",
   "metadata": {},
   "outputs": [
    {
     "name": "stdout",
     "output_type": "stream",
     "text": [
      "\u001b[?2004l\r",
      "\u001b[?2004h\n",
      "\n",
      "o21 = | 1/3  1/3  -2/3 |\n",
      "      | 2/3  -1/3 -1/3 |\n",
      "      | -1/3 2/3  -1/3 |\n",
      "      | 1/3  -2/3 1/3  |\n",
      "      | -2/3 1/3  1/3  |\n",
      "      | -1/3 -1/3 2/3  |\n",
      "\n",
      "               6        3\n",
      "o21 : Matrix QQ  <--- QQ\n",
      "\u001b[?2004h"
     ]
    }
   ],
   "source": [
    "numVertices = (fVector myPolyhedron)_0\n",
    "\n",
    "B = mutableMatrix(R,numVertices,n)\n",
    "\n",
    "for i from 0 to (numVertices - 1) do (\n",
    "    currVec = transpose matrix V_(i);\n",
    "    for j from 0 to (n-1) do (\n",
    "        B_(i,j) = currVec_(0,j)\n",
    "    )\n",
    ")\n",
    "\n",
    "B = matrix B"
   ]
  },
  {
   "cell_type": "code",
   "execution_count": 24,
   "id": "72ceda64",
   "metadata": {},
   "outputs": [
    {
     "name": "stdout",
     "output_type": "stream",
     "text": [
      "\u001b[?2004l\r",
      "\u001b[?2004h\n",
      "\n",
      "o24 = | 1 |\n",
      "      | 1 |\n",
      "      | 1 |\n",
      "      | 1 |\n",
      "      | 1 |\n",
      "      | 1 |\n",
      "\n",
      "               6        1\n",
      "o24 : Matrix QQ  <--- QQ\n",
      "\u001b[?2004h"
     ]
    }
   ],
   "source": [
    "v = mutableMatrix(R,numVertices,1)\n",
    "\n",
    "for i from 0 to (numVertices - 1) do (\n",
    "    v_(i,0) = 1\n",
    ")\n",
    "\n",
    "v = matrix v"
   ]
  },
  {
   "cell_type": "code",
   "execution_count": 26,
   "id": "346e4550",
   "metadata": {},
   "outputs": [
    {
     "name": "stdout",
     "output_type": "stream",
     "text": [
      "\n",
      "o26 = | 1  -1 1  0  -1 0  |\n",
      "      | -1 1  0  1  0  -1 |\n",
      "      | 0  0  -1 -1 1  1  |\n",
      "\n",
      "               3        6\n",
      "o26 : Matrix QQ  <--- QQ\n",
      "\u001b[?2004h"
     ]
    }
   ],
   "source": [
    "PDual = polyhedronFromHData(B, v, c, w)\n",
    "vertPDual = vertices PDual"
   ]
  },
  {
   "cell_type": "markdown",
   "id": "f77b7945",
   "metadata": {},
   "source": [
    "## Define the Twisted Quintic within a ring $R$"
   ]
  },
  {
   "cell_type": "code",
   "execution_count": 34,
   "id": "39e20f7b",
   "metadata": {},
   "outputs": [
    {
     "name": "stdout",
     "output_type": "stream",
     "text": [
      "\u001b[?2004l\r",
      "\u001b[?2004h\n",
      "\u001b[?2004l\r",
      "\u001b[?2004h\n",
      "\u001b[?2004l\r\n",
      "o30 : Ideal of R\n",
      "\u001b[?2004h\n",
      "\u001b[?2004l\r\n",
      "              1       1\n",
      "o31 : Matrix R  <--- R\n",
      "\u001b[?2004h\n",
      "\u001b[?2004l\r\n",
      "               1        3\n",
      "o32 : Matrix QQ  <--- QQ\n",
      "\u001b[?2004h\n",
      "\u001b[?2004l\r\n",
      "              1       3\n",
      "o33 : Matrix R  <--- R\n",
      "\u001b[?2004h\n",
      "\u001b[?2004l\r\n",
      "              1       3\n",
      "o34 : Matrix R  <--- R\n",
      "\u001b[?2004h"
     ]
    }
   ],
   "source": [
    "R = QQ[p0, p1, p2];\n",
    "P = {p0, p1, p2};\n",
    "\n",
    "definingEqns = matrix{{p1^2-4*p0*p2}}\n",
    "\n",
    "G = ideal(definingEqns);\n",
    "GGens = gens G;\n",
    "\n",
    "mu = matrix{{1/2,1/4,1/4}};\n",
    "pTranslated = matrix{{p0, p1, p2}};\n",
    "pTranslated = pTranslated - mu;"
   ]
  },
  {
   "cell_type": "code",
   "execution_count": 37,
   "id": "8b6663f6",
   "metadata": {},
   "outputs": [
    {
     "name": "stdout",
     "output_type": "stream",
     "text": [
      "\u001b[?2004l\r",
      "\u001b[?2004h\n",
      "\u001b[?2004l\r",
      "\u001b[?2004h\n",
      "\u001b[?2004l\r\n",
      "              3       1\n",
      "o37 : Matrix R  <--- R\n",
      "\u001b[?2004h"
     ]
    }
   ],
   "source": [
    "diffConstraintList = {};\n",
    "\n",
    "for i from 0 to (numgens(G)-1) do (\n",
    "    L = {};\n",
    "    for j from 0 to (#P-1) do (\n",
    "        L = append(L, diff(P_j,GGens_i))\n",
    "    );\n",
    "    diffConstraintList = append(diffConstraintList, L);\n",
    ");\n",
    "\n",
    "diffConstraintList = transpose matrix diffConstraintList;"
   ]
  },
  {
   "cell_type": "markdown",
   "id": "3d0f5533",
   "metadata": {},
   "source": [
    "## For Codimension 1"
   ]
  },
  {
   "cell_type": "code",
   "execution_count": 43,
   "id": "e8280d6f",
   "metadata": {},
   "outputs": [
    {
     "name": "stdout",
     "output_type": "stream",
     "text": [
      "\u001b[?2004l\r",
      "\u001b[?2004h\n",
      "\u001b[?2004l\r",
      "\u001b[?2004h\n",
      "\u001b[?2004l\r",
      "\u001b[?2004h\n",
      "\u001b[?2004l\r",
      "\u001b[?2004h\n",
      "\u001b[?2004l\r",
      "\u001b[?2004h\n",
      "\u001b[?2004l\r",
      "\u001b[?2004h"
     ]
    }
   ],
   "source": [
    "codimension = 1;\n",
    "L = faces(codimension,PDual);\n",
    "\n",
    "listOfAmbientVertices = apply(L, f -> vertPDual_(f#0));\n",
    "\n",
    "B = apply(listOfAmbientVertices, A -> generators(ker transpose matrix A));\n",
    "\n",
    "-- Get the normals to all of the faces\n",
    "currNormals = {};\n",
    "for i from 0 to (#listOfAmbientVertices - 1) do (\n",
    "    \n",
    "    ambientVertices = listOfAmbientVertices#i;\n",
    "    \n",
    "    currNormal = mutableMatrix(R,1,n);\n",
    "    currNormal = mutableMatrix currNormal;\n",
    "        \n",
    "    for j from 0 to (n - 1) do (\n",
    "        for colIndex from 0 to (numcols(ambientVertices) - 1) do (\n",
    "            currNormal_(0,j) = (currNormal_(0,j) + ambientVertices_(j,colIndex))\n",
    "        );\n",
    "    );\n",
    "    \n",
    "    for j from 0 to (n - 1) do (\n",
    "        currNormal_(0,j) = (currNormal_(0,j) / (numcols ambientVertices))\n",
    "    );\n",
    "    \n",
    "    currNormals = append(currNormals, matrix currNormal)\n",
    ");"
   ]
  },
  {
   "cell_type": "code",
   "execution_count": 46,
   "id": "fd26d4bb",
   "metadata": {},
   "outputs": [
    {
     "name": "stdout",
     "output_type": "stream",
     "text": [
      "\u001b[?2004l\r",
      "\u001b[?2004h"
     ]
    }
   ],
   "source": [
    "-- Generate D Matrix and Intersection Ideals for every set of ambient verticies that form a facet of the desired codimension\n",
    "DLists = {}\n",
    "intersectionIdealLists = {}\n",
    "\n",
    "for i from 0 to (#listOfAmbientVertices - 1) do (\n",
    "\n",
    "    D = {};\n",
    "    D = append(D, currNormals_i);\n",
    "                \n",
    "    for j from 0 to (numcols(diffConstraintList) - 1) do (\n",
    "        D = append(D, transpose matrix {diffConstraintList_j} );\n",
    "    );\n",
    "    \n",
    "    D = append(D, c);\n",
    "    \n",
    "    intersectionIdeal = {};\n",
    "\n",
    "    Q = B_i;\n",
    "    for j from 0 to (numcols(Q) - 1) do (\n",
    "        currVec = transpose matrix Q_j;\n",
    "        D = append(D, currVec);\n",
    "        dummyVec = currVec * transpose(pTranslated);\n",
    "        intersectionIdeal = append(intersectionIdeal, dummyVec_0 );\n",
    "    );\n",
    "    \n",
    "    for i from 0 to (numgens(G)-1) do (\n",
    "        intersectionIdeal = append(intersectionIdeal, GGens_i);\n",
    "    );\n",
    "    \n",
    "    DLists = append(DLists, D);\n",
    "    intersectionIdealLists = append(intersectionIdealLists, intersectionIdeal);\n",
    ");"
   ]
  },
  {
   "cell_type": "code",
   "execution_count": 48,
   "id": "84aefb56",
   "metadata": {},
   "outputs": [
    {
     "name": "stdout",
     "output_type": "stream",
     "text": [
      "\u001b[?2004l\r",
      "\u001b[?2004h"
     ]
    }
   ],
   "source": [
    "-- purely for converting a list of vectors into a list of matrices\n",
    "convertDListsToMatrices = {}\n",
    "for i from 0 to (#listOfAmbientVertices - 1) do (\n",
    "    D = DLists_i;\n",
    "    DMatrix = mutableMatrix(R,#D,n);\n",
    "    for j from 0 to (#D - 1) do (\n",
    "        currVec = D_j;\n",
    "        for k from 0 to (n-1) do (\n",
    "            dummyVec = currVec_k;\n",
    "            DMatrix_(j,k) = dummyVec_0;\n",
    "        );\n",
    "    );\n",
    "    DMatrix = matrix DMatrix;\n",
    "    convertDListsToMatrices = append(convertDListsToMatrices, DMatrix)\n",
    ");"
   ]
  },
  {
   "cell_type": "code",
   "execution_count": 50,
   "id": "0a1573df",
   "metadata": {},
   "outputs": [
    {
     "name": "stdout",
     "output_type": "stream",
     "text": [
      "\u001b[?2004l\r",
      "\u001b[?2004h"
     ]
    }
   ],
   "source": [
    "-- purely for converting a list of vectors of functions into an ideal\n",
    "convertintersectionIdealListsToIdeals = {}\n",
    "for i from 0 to (#listOfAmbientVertices - 1) do (\n",
    "    intersectionIdeal = intersectionIdealLists_i;\n",
    "    myLocalList = {};\n",
    "    for j from 0 to (#intersectionIdeal - 1) do (\n",
    "        dummyVec = intersectionIdeal_j;\n",
    "        myLocalList = append(myLocalList, dummyVec_0);\n",
    "    );\n",
    "    convertintersectionIdealListsToIdeals = append(convertintersectionIdealListsToIdeals, ideal myLocalList);\n",
    ");"
   ]
  },
  {
   "cell_type": "code",
   "execution_count": 54,
   "id": "bf2d8ded",
   "metadata": {},
   "outputs": [
    {
     "name": "stdout",
     "output_type": "stream",
     "text": [
      "\u001b[?2004l\r",
      "| 1  1  |\n",
      "| -1 0  |\n",
      "| 0  -1 |\n",
      "\u001b[?2004h\n",
      "\u001b[?2004l\r",
      "                           2\n",
      "ideal (p0 + p1 + p2 - 1, p1  - 4p0*p2)\n",
      "\u001b[?2004h\n",
      "\u001b[?2004l\r",
      "| 1    -1/2 -1/2 |\n",
      "| -4p2 2p1  -4p0 |\n",
      "| 1    1    1    |\n",
      "| 1    1    1    |\n",
      "\u001b[?2004h"
     ]
    }
   ],
   "source": [
    "exampleIndex = 3\n",
    "print(listOfAmbientVertices_exampleIndex)\n",
    "print(convertintersectionIdealListsToIdeals_exampleIndex)\n",
    "print(convertDListsToMatrices_exampleIndex)"
   ]
  },
  {
   "cell_type": "code",
   "execution_count": 55,
   "id": "46bbe8fc",
   "metadata": {},
   "outputs": [
    {
     "name": "stdout",
     "output_type": "stream",
     "text": [
      "\u001b[?2004l\r",
      "1\n",
      "1\n",
      "1\n",
      "1\n",
      "1\n",
      "1\n",
      "\u001b[?2004h"
     ]
    }
   ],
   "source": [
    "for i from 0 to (#listOfAmbientVertices - 1) do (\n",
    "    I = convertintersectionIdealListsToIdeals_i;\n",
    "    D = convertDListsToMatrices_i;\n",
    "    Minors = minors(n, D);\n",
    "    J = I + Minors;\n",
    "    print(degree J);\n",
    ");"
   ]
  },
  {
   "cell_type": "markdown",
   "id": "d29deff9",
   "metadata": {},
   "source": [
    "## For Codimension 2"
   ]
  },
  {
   "cell_type": "code",
   "execution_count": 61,
   "id": "34490431",
   "metadata": {},
   "outputs": [
    {
     "name": "stdout",
     "output_type": "stream",
     "text": [
      "\u001b[?2004l\r",
      "\u001b[?2004h\n",
      "\u001b[?2004l\r",
      "\u001b[?2004h\n",
      "\u001b[?2004l\r",
      "\u001b[?2004h\n",
      "\u001b[?2004l\r",
      "\u001b[?2004h\n",
      "\u001b[?2004l\r",
      "\u001b[?2004h\n",
      "\u001b[?2004l\r",
      "\u001b[?2004h"
     ]
    }
   ],
   "source": [
    "codimension = 2;\n",
    "L = faces(codimension,PDual);\n",
    "\n",
    "listOfAmbientVertices = apply(L, f -> vertPDual_(f#0));\n",
    "\n",
    "B = apply(listOfAmbientVertices, A -> generators(ker transpose matrix A));\n",
    "\n",
    "-- Get the normals to all of the faces\n",
    "currNormals = {};\n",
    "for i from 0 to (#listOfAmbientVertices - 1) do (\n",
    "    \n",
    "    ambientVertices = listOfAmbientVertices#i;\n",
    "    \n",
    "    currNormal = mutableMatrix(R,1,n);\n",
    "    currNormal = mutableMatrix currNormal;\n",
    "        \n",
    "    for j from 0 to (n - 1) do (\n",
    "        for colIndex from 0 to (numcols(ambientVertices) - 1) do (\n",
    "            currNormal_(0,j) = (currNormal_(0,j) + ambientVertices_(j,colIndex))\n",
    "        );\n",
    "    );\n",
    "    \n",
    "    for j from 0 to (n - 1) do (\n",
    "        currNormal_(0,j) = (currNormal_(0,j) / (numcols ambientVertices))\n",
    "    );\n",
    "    \n",
    "    currNormals = append(currNormals, matrix currNormal)\n",
    ");"
   ]
  },
  {
   "cell_type": "code",
   "execution_count": 63,
   "id": "4789cd2f",
   "metadata": {},
   "outputs": [
    {
     "name": "stdout",
     "output_type": "stream",
     "text": [
      "\u001b[?2004l\r",
      "\u001b[?2004h"
     ]
    }
   ],
   "source": [
    "-- purely for converting a list of vectors of functions into an ideal\n",
    "convertintersectionIdealListsToIdeals = {}\n",
    "for i from 0 to (#listOfAmbientVertices - 1) do (\n",
    "    intersectionIdeal = intersectionIdealLists_i;\n",
    "    myLocalList = {};\n",
    "    for j from 0 to (#intersectionIdeal - 1) do (\n",
    "        dummyVec = intersectionIdeal_j;\n",
    "        myLocalList = append(myLocalList, dummyVec_0);\n",
    "    );\n",
    "    convertintersectionIdealListsToIdeals = append(convertintersectionIdealListsToIdeals, ideal myLocalList);\n",
    ");"
   ]
  },
  {
   "cell_type": "code",
   "execution_count": 64,
   "id": "6fc79ae1",
   "metadata": {},
   "outputs": [
    {
     "name": "stdout",
     "output_type": "stream",
     "text": [
      "\u001b[?2004l\r",
      "2\n",
      "2\n",
      "2\n",
      "2\n",
      "2\n",
      "2\n",
      "\u001b[?2004h"
     ]
    }
   ],
   "source": [
    "for i from 0 to (#listOfAmbientVertices - 1) do (\n",
    "    I = convertintersectionIdealListsToIdeals_i;\n",
    "    J = I;\n",
    "    print(degree J);\n",
    ");"
   ]
  },
  {
   "cell_type": "code",
   "execution_count": null,
   "id": "85ac45c2",
   "metadata": {},
   "outputs": [],
   "source": []
  }
 ],
 "metadata": {
  "kernelspec": {
   "display_name": "M2",
   "language": "text/x-macaulay2",
   "name": "m2"
  },
  "language_info": {
   "codemirror_mode": "macaulay2",
   "file_extension": ".m2",
   "mimetype": "text/x-macaulay2",
   "name": "Macaulay2"
  }
 },
 "nbformat": 4,
 "nbformat_minor": 5
}
